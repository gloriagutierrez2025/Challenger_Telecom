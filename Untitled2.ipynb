{
  "nbformat": 4,
  "nbformat_minor": 0,
  "metadata": {
    "colab": {
      "provenance": [],
      "mount_file_id": "1lz4HEOB4hI3eGVwIqqtotAFRgVTk5bBZ",
      "authorship_tag": "ABX9TyMDA6t9LWwSIVEZQjLp91+z",
      "include_colab_link": true
    },
    "kernelspec": {
      "name": "python3",
      "display_name": "Python 3"
    },
    "language_info": {
      "name": "python"
    }
  },
  "cells": [
    {
      "cell_type": "markdown",
      "metadata": {
        "id": "view-in-github",
        "colab_type": "text"
      },
      "source": [
        "<a href=\"https://colab.research.google.com/github/gloriagutierrez2025/Challenger_Telecom/blob/main/Untitled2.ipynb\" target=\"_parent\"><img src=\"https://colab.research.google.com/assets/colab-badge.svg\" alt=\"Open In Colab\"/></a>"
      ]
    },
    {
      "cell_type": "markdown",
      "source": [
        "#**Importación de Bibliotecas**"
      ],
      "metadata": {
        "id": "mMW_iHsHrjo8"
      }
    },
    {
      "cell_type": "code",
      "source": [
        "import pandas as pd\n",
        "import numpy as np\n",
        "import matplotlib.pyplot as plt\n",
        "import seaborn as sns\n",
        "import requests\n",
        "import json"
      ],
      "metadata": {
        "id": "colR0kMjrdTy"
      },
      "execution_count": 33,
      "outputs": []
    },
    {
      "cell_type": "code",
      "source": [
        "url='https://raw.githubusercontent.com/ingridcristh/challenge2-data-science-LATAM/main/TelecomX_Data.json'"
      ],
      "metadata": {
        "id": "GJRphP7uGelw"
      },
      "execution_count": 34,
      "outputs": []
    },
    {
      "cell_type": "code",
      "source": [
        "response=requests.get(url)\n",
        "data=response.json()\n",
        "df=pd.json_normalize(data)\n",
        "df.head()\n"
      ],
      "metadata": {
        "colab": {
          "base_uri": "https://localhost:8080/",
          "height": 325
        },
        "id": "CIHoBfpbg2_8",
        "outputId": "7c8245f7-9ecc-4547-887c-5f67fcbff3b9"
      },
      "execution_count": 37,
      "outputs": [
        {
          "output_type": "execute_result",
          "data": {
            "text/plain": [
              "   customerID Churn customer.gender  customer.SeniorCitizen customer.Partner  \\\n",
              "0  0002-ORFBO    No          Female                       0              Yes   \n",
              "1  0003-MKNFE    No            Male                       0               No   \n",
              "2  0004-TLHLJ   Yes            Male                       0               No   \n",
              "3  0011-IGKFF   Yes            Male                       1              Yes   \n",
              "4  0013-EXCHZ   Yes          Female                       1              Yes   \n",
              "\n",
              "  customer.Dependents  customer.tenure phone.PhoneService phone.MultipleLines  \\\n",
              "0                 Yes                9                Yes                  No   \n",
              "1                  No                9                Yes                 Yes   \n",
              "2                  No                4                Yes                  No   \n",
              "3                  No               13                Yes                  No   \n",
              "4                  No                3                Yes                  No   \n",
              "\n",
              "  internet.InternetService  ... internet.OnlineBackup  \\\n",
              "0                      DSL  ...                   Yes   \n",
              "1                      DSL  ...                    No   \n",
              "2              Fiber optic  ...                    No   \n",
              "3              Fiber optic  ...                   Yes   \n",
              "4              Fiber optic  ...                    No   \n",
              "\n",
              "  internet.DeviceProtection internet.TechSupport internet.StreamingTV  \\\n",
              "0                        No                  Yes                  Yes   \n",
              "1                        No                   No                   No   \n",
              "2                       Yes                   No                   No   \n",
              "3                       Yes                   No                  Yes   \n",
              "4                        No                  Yes                  Yes   \n",
              "\n",
              "  internet.StreamingMovies account.Contract account.PaperlessBilling  \\\n",
              "0                       No         One year                      Yes   \n",
              "1                      Yes   Month-to-month                       No   \n",
              "2                       No   Month-to-month                      Yes   \n",
              "3                      Yes   Month-to-month                      Yes   \n",
              "4                       No   Month-to-month                      Yes   \n",
              "\n",
              "  account.PaymentMethod account.Charges.Monthly  account.Charges.Total  \n",
              "0          Mailed check                    65.6                  593.3  \n",
              "1          Mailed check                    59.9                  542.4  \n",
              "2      Electronic check                    73.9                 280.85  \n",
              "3      Electronic check                    98.0                1237.85  \n",
              "4          Mailed check                    83.9                  267.4  \n",
              "\n",
              "[5 rows x 21 columns]"
            ],
            "text/html": [
              "\n",
              "  <div id=\"df-57f7e46c-a170-4b59-9339-8089c54b4dd1\" class=\"colab-df-container\">\n",
              "    <div>\n",
              "<style scoped>\n",
              "    .dataframe tbody tr th:only-of-type {\n",
              "        vertical-align: middle;\n",
              "    }\n",
              "\n",
              "    .dataframe tbody tr th {\n",
              "        vertical-align: top;\n",
              "    }\n",
              "\n",
              "    .dataframe thead th {\n",
              "        text-align: right;\n",
              "    }\n",
              "</style>\n",
              "<table border=\"1\" class=\"dataframe\">\n",
              "  <thead>\n",
              "    <tr style=\"text-align: right;\">\n",
              "      <th></th>\n",
              "      <th>customerID</th>\n",
              "      <th>Churn</th>\n",
              "      <th>customer.gender</th>\n",
              "      <th>customer.SeniorCitizen</th>\n",
              "      <th>customer.Partner</th>\n",
              "      <th>customer.Dependents</th>\n",
              "      <th>customer.tenure</th>\n",
              "      <th>phone.PhoneService</th>\n",
              "      <th>phone.MultipleLines</th>\n",
              "      <th>internet.InternetService</th>\n",
              "      <th>...</th>\n",
              "      <th>internet.OnlineBackup</th>\n",
              "      <th>internet.DeviceProtection</th>\n",
              "      <th>internet.TechSupport</th>\n",
              "      <th>internet.StreamingTV</th>\n",
              "      <th>internet.StreamingMovies</th>\n",
              "      <th>account.Contract</th>\n",
              "      <th>account.PaperlessBilling</th>\n",
              "      <th>account.PaymentMethod</th>\n",
              "      <th>account.Charges.Monthly</th>\n",
              "      <th>account.Charges.Total</th>\n",
              "    </tr>\n",
              "  </thead>\n",
              "  <tbody>\n",
              "    <tr>\n",
              "      <th>0</th>\n",
              "      <td>0002-ORFBO</td>\n",
              "      <td>No</td>\n",
              "      <td>Female</td>\n",
              "      <td>0</td>\n",
              "      <td>Yes</td>\n",
              "      <td>Yes</td>\n",
              "      <td>9</td>\n",
              "      <td>Yes</td>\n",
              "      <td>No</td>\n",
              "      <td>DSL</td>\n",
              "      <td>...</td>\n",
              "      <td>Yes</td>\n",
              "      <td>No</td>\n",
              "      <td>Yes</td>\n",
              "      <td>Yes</td>\n",
              "      <td>No</td>\n",
              "      <td>One year</td>\n",
              "      <td>Yes</td>\n",
              "      <td>Mailed check</td>\n",
              "      <td>65.6</td>\n",
              "      <td>593.3</td>\n",
              "    </tr>\n",
              "    <tr>\n",
              "      <th>1</th>\n",
              "      <td>0003-MKNFE</td>\n",
              "      <td>No</td>\n",
              "      <td>Male</td>\n",
              "      <td>0</td>\n",
              "      <td>No</td>\n",
              "      <td>No</td>\n",
              "      <td>9</td>\n",
              "      <td>Yes</td>\n",
              "      <td>Yes</td>\n",
              "      <td>DSL</td>\n",
              "      <td>...</td>\n",
              "      <td>No</td>\n",
              "      <td>No</td>\n",
              "      <td>No</td>\n",
              "      <td>No</td>\n",
              "      <td>Yes</td>\n",
              "      <td>Month-to-month</td>\n",
              "      <td>No</td>\n",
              "      <td>Mailed check</td>\n",
              "      <td>59.9</td>\n",
              "      <td>542.4</td>\n",
              "    </tr>\n",
              "    <tr>\n",
              "      <th>2</th>\n",
              "      <td>0004-TLHLJ</td>\n",
              "      <td>Yes</td>\n",
              "      <td>Male</td>\n",
              "      <td>0</td>\n",
              "      <td>No</td>\n",
              "      <td>No</td>\n",
              "      <td>4</td>\n",
              "      <td>Yes</td>\n",
              "      <td>No</td>\n",
              "      <td>Fiber optic</td>\n",
              "      <td>...</td>\n",
              "      <td>No</td>\n",
              "      <td>Yes</td>\n",
              "      <td>No</td>\n",
              "      <td>No</td>\n",
              "      <td>No</td>\n",
              "      <td>Month-to-month</td>\n",
              "      <td>Yes</td>\n",
              "      <td>Electronic check</td>\n",
              "      <td>73.9</td>\n",
              "      <td>280.85</td>\n",
              "    </tr>\n",
              "    <tr>\n",
              "      <th>3</th>\n",
              "      <td>0011-IGKFF</td>\n",
              "      <td>Yes</td>\n",
              "      <td>Male</td>\n",
              "      <td>1</td>\n",
              "      <td>Yes</td>\n",
              "      <td>No</td>\n",
              "      <td>13</td>\n",
              "      <td>Yes</td>\n",
              "      <td>No</td>\n",
              "      <td>Fiber optic</td>\n",
              "      <td>...</td>\n",
              "      <td>Yes</td>\n",
              "      <td>Yes</td>\n",
              "      <td>No</td>\n",
              "      <td>Yes</td>\n",
              "      <td>Yes</td>\n",
              "      <td>Month-to-month</td>\n",
              "      <td>Yes</td>\n",
              "      <td>Electronic check</td>\n",
              "      <td>98.0</td>\n",
              "      <td>1237.85</td>\n",
              "    </tr>\n",
              "    <tr>\n",
              "      <th>4</th>\n",
              "      <td>0013-EXCHZ</td>\n",
              "      <td>Yes</td>\n",
              "      <td>Female</td>\n",
              "      <td>1</td>\n",
              "      <td>Yes</td>\n",
              "      <td>No</td>\n",
              "      <td>3</td>\n",
              "      <td>Yes</td>\n",
              "      <td>No</td>\n",
              "      <td>Fiber optic</td>\n",
              "      <td>...</td>\n",
              "      <td>No</td>\n",
              "      <td>No</td>\n",
              "      <td>Yes</td>\n",
              "      <td>Yes</td>\n",
              "      <td>No</td>\n",
              "      <td>Month-to-month</td>\n",
              "      <td>Yes</td>\n",
              "      <td>Mailed check</td>\n",
              "      <td>83.9</td>\n",
              "      <td>267.4</td>\n",
              "    </tr>\n",
              "  </tbody>\n",
              "</table>\n",
              "<p>5 rows × 21 columns</p>\n",
              "</div>\n",
              "    <div class=\"colab-df-buttons\">\n",
              "\n",
              "  <div class=\"colab-df-container\">\n",
              "    <button class=\"colab-df-convert\" onclick=\"convertToInteractive('df-57f7e46c-a170-4b59-9339-8089c54b4dd1')\"\n",
              "            title=\"Convert this dataframe to an interactive table.\"\n",
              "            style=\"display:none;\">\n",
              "\n",
              "  <svg xmlns=\"http://www.w3.org/2000/svg\" height=\"24px\" viewBox=\"0 -960 960 960\">\n",
              "    <path d=\"M120-120v-720h720v720H120Zm60-500h600v-160H180v160Zm220 220h160v-160H400v160Zm0 220h160v-160H400v160ZM180-400h160v-160H180v160Zm440 0h160v-160H620v160ZM180-180h160v-160H180v160Zm440 0h160v-160H620v160Z\"/>\n",
              "  </svg>\n",
              "    </button>\n",
              "\n",
              "  <style>\n",
              "    .colab-df-container {\n",
              "      display:flex;\n",
              "      gap: 12px;\n",
              "    }\n",
              "\n",
              "    .colab-df-convert {\n",
              "      background-color: #E8F0FE;\n",
              "      border: none;\n",
              "      border-radius: 50%;\n",
              "      cursor: pointer;\n",
              "      display: none;\n",
              "      fill: #1967D2;\n",
              "      height: 32px;\n",
              "      padding: 0 0 0 0;\n",
              "      width: 32px;\n",
              "    }\n",
              "\n",
              "    .colab-df-convert:hover {\n",
              "      background-color: #E2EBFA;\n",
              "      box-shadow: 0px 1px 2px rgba(60, 64, 67, 0.3), 0px 1px 3px 1px rgba(60, 64, 67, 0.15);\n",
              "      fill: #174EA6;\n",
              "    }\n",
              "\n",
              "    .colab-df-buttons div {\n",
              "      margin-bottom: 4px;\n",
              "    }\n",
              "\n",
              "    [theme=dark] .colab-df-convert {\n",
              "      background-color: #3B4455;\n",
              "      fill: #D2E3FC;\n",
              "    }\n",
              "\n",
              "    [theme=dark] .colab-df-convert:hover {\n",
              "      background-color: #434B5C;\n",
              "      box-shadow: 0px 1px 3px 1px rgba(0, 0, 0, 0.15);\n",
              "      filter: drop-shadow(0px 1px 2px rgba(0, 0, 0, 0.3));\n",
              "      fill: #FFFFFF;\n",
              "    }\n",
              "  </style>\n",
              "\n",
              "    <script>\n",
              "      const buttonEl =\n",
              "        document.querySelector('#df-57f7e46c-a170-4b59-9339-8089c54b4dd1 button.colab-df-convert');\n",
              "      buttonEl.style.display =\n",
              "        google.colab.kernel.accessAllowed ? 'block' : 'none';\n",
              "\n",
              "      async function convertToInteractive(key) {\n",
              "        const element = document.querySelector('#df-57f7e46c-a170-4b59-9339-8089c54b4dd1');\n",
              "        const dataTable =\n",
              "          await google.colab.kernel.invokeFunction('convertToInteractive',\n",
              "                                                    [key], {});\n",
              "        if (!dataTable) return;\n",
              "\n",
              "        const docLinkHtml = 'Like what you see? Visit the ' +\n",
              "          '<a target=\"_blank\" href=https://colab.research.google.com/notebooks/data_table.ipynb>data table notebook</a>'\n",
              "          + ' to learn more about interactive tables.';\n",
              "        element.innerHTML = '';\n",
              "        dataTable['output_type'] = 'display_data';\n",
              "        await google.colab.output.renderOutput(dataTable, element);\n",
              "        const docLink = document.createElement('div');\n",
              "        docLink.innerHTML = docLinkHtml;\n",
              "        element.appendChild(docLink);\n",
              "      }\n",
              "    </script>\n",
              "  </div>\n",
              "\n",
              "\n",
              "    <div id=\"df-28287626-ea48-4ba7-9aa7-5439b0a95aeb\">\n",
              "      <button class=\"colab-df-quickchart\" onclick=\"quickchart('df-28287626-ea48-4ba7-9aa7-5439b0a95aeb')\"\n",
              "                title=\"Suggest charts\"\n",
              "                style=\"display:none;\">\n",
              "\n",
              "<svg xmlns=\"http://www.w3.org/2000/svg\" height=\"24px\"viewBox=\"0 0 24 24\"\n",
              "     width=\"24px\">\n",
              "    <g>\n",
              "        <path d=\"M19 3H5c-1.1 0-2 .9-2 2v14c0 1.1.9 2 2 2h14c1.1 0 2-.9 2-2V5c0-1.1-.9-2-2-2zM9 17H7v-7h2v7zm4 0h-2V7h2v10zm4 0h-2v-4h2v4z\"/>\n",
              "    </g>\n",
              "</svg>\n",
              "      </button>\n",
              "\n",
              "<style>\n",
              "  .colab-df-quickchart {\n",
              "      --bg-color: #E8F0FE;\n",
              "      --fill-color: #1967D2;\n",
              "      --hover-bg-color: #E2EBFA;\n",
              "      --hover-fill-color: #174EA6;\n",
              "      --disabled-fill-color: #AAA;\n",
              "      --disabled-bg-color: #DDD;\n",
              "  }\n",
              "\n",
              "  [theme=dark] .colab-df-quickchart {\n",
              "      --bg-color: #3B4455;\n",
              "      --fill-color: #D2E3FC;\n",
              "      --hover-bg-color: #434B5C;\n",
              "      --hover-fill-color: #FFFFFF;\n",
              "      --disabled-bg-color: #3B4455;\n",
              "      --disabled-fill-color: #666;\n",
              "  }\n",
              "\n",
              "  .colab-df-quickchart {\n",
              "    background-color: var(--bg-color);\n",
              "    border: none;\n",
              "    border-radius: 50%;\n",
              "    cursor: pointer;\n",
              "    display: none;\n",
              "    fill: var(--fill-color);\n",
              "    height: 32px;\n",
              "    padding: 0;\n",
              "    width: 32px;\n",
              "  }\n",
              "\n",
              "  .colab-df-quickchart:hover {\n",
              "    background-color: var(--hover-bg-color);\n",
              "    box-shadow: 0 1px 2px rgba(60, 64, 67, 0.3), 0 1px 3px 1px rgba(60, 64, 67, 0.15);\n",
              "    fill: var(--button-hover-fill-color);\n",
              "  }\n",
              "\n",
              "  .colab-df-quickchart-complete:disabled,\n",
              "  .colab-df-quickchart-complete:disabled:hover {\n",
              "    background-color: var(--disabled-bg-color);\n",
              "    fill: var(--disabled-fill-color);\n",
              "    box-shadow: none;\n",
              "  }\n",
              "\n",
              "  .colab-df-spinner {\n",
              "    border: 2px solid var(--fill-color);\n",
              "    border-color: transparent;\n",
              "    border-bottom-color: var(--fill-color);\n",
              "    animation:\n",
              "      spin 1s steps(1) infinite;\n",
              "  }\n",
              "\n",
              "  @keyframes spin {\n",
              "    0% {\n",
              "      border-color: transparent;\n",
              "      border-bottom-color: var(--fill-color);\n",
              "      border-left-color: var(--fill-color);\n",
              "    }\n",
              "    20% {\n",
              "      border-color: transparent;\n",
              "      border-left-color: var(--fill-color);\n",
              "      border-top-color: var(--fill-color);\n",
              "    }\n",
              "    30% {\n",
              "      border-color: transparent;\n",
              "      border-left-color: var(--fill-color);\n",
              "      border-top-color: var(--fill-color);\n",
              "      border-right-color: var(--fill-color);\n",
              "    }\n",
              "    40% {\n",
              "      border-color: transparent;\n",
              "      border-right-color: var(--fill-color);\n",
              "      border-top-color: var(--fill-color);\n",
              "    }\n",
              "    60% {\n",
              "      border-color: transparent;\n",
              "      border-right-color: var(--fill-color);\n",
              "    }\n",
              "    80% {\n",
              "      border-color: transparent;\n",
              "      border-right-color: var(--fill-color);\n",
              "      border-bottom-color: var(--fill-color);\n",
              "    }\n",
              "    90% {\n",
              "      border-color: transparent;\n",
              "      border-bottom-color: var(--fill-color);\n",
              "    }\n",
              "  }\n",
              "</style>\n",
              "\n",
              "      <script>\n",
              "        async function quickchart(key) {\n",
              "          const quickchartButtonEl =\n",
              "            document.querySelector('#' + key + ' button');\n",
              "          quickchartButtonEl.disabled = true;  // To prevent multiple clicks.\n",
              "          quickchartButtonEl.classList.add('colab-df-spinner');\n",
              "          try {\n",
              "            const charts = await google.colab.kernel.invokeFunction(\n",
              "                'suggestCharts', [key], {});\n",
              "          } catch (error) {\n",
              "            console.error('Error during call to suggestCharts:', error);\n",
              "          }\n",
              "          quickchartButtonEl.classList.remove('colab-df-spinner');\n",
              "          quickchartButtonEl.classList.add('colab-df-quickchart-complete');\n",
              "        }\n",
              "        (() => {\n",
              "          let quickchartButtonEl =\n",
              "            document.querySelector('#df-28287626-ea48-4ba7-9aa7-5439b0a95aeb button');\n",
              "          quickchartButtonEl.style.display =\n",
              "            google.colab.kernel.accessAllowed ? 'block' : 'none';\n",
              "        })();\n",
              "      </script>\n",
              "    </div>\n",
              "\n",
              "    </div>\n",
              "  </div>\n"
            ],
            "application/vnd.google.colaboratory.intrinsic+json": {
              "type": "dataframe",
              "variable_name": "df"
            }
          },
          "metadata": {},
          "execution_count": 37
        }
      ]
    },
    {
      "cell_type": "code",
      "source": [
        "df.columns = df.columns.str.replace('.', '_', regex=False)"
      ],
      "metadata": {
        "id": "JgOpBY2Pho9G"
      },
      "execution_count": 38,
      "outputs": []
    },
    {
      "cell_type": "markdown",
      "source": [],
      "metadata": {
        "id": "yghPHRjuJk9_"
      }
    },
    {
      "cell_type": "markdown",
      "source": [
        "#Identificando valores nulos"
      ],
      "metadata": {
        "id": "4chEWdmDJk_9"
      }
    },
    {
      "cell_type": "code",
      "source": [
        "missing = df.isnull().sum()\n",
        "print(\"🔍 Valores ausentes por columna:\\n\", missing[missing > 0])"
      ],
      "metadata": {
        "id": "mhaqU776lAhH",
        "colab": {
          "base_uri": "https://localhost:8080/"
        },
        "outputId": "308ec810-de52-431d-f99a-5359c54dae24"
      },
      "execution_count": 39,
      "outputs": [
        {
          "output_type": "stream",
          "name": "stdout",
          "text": [
            "🔍 Valores ausentes por columna:\n",
            " Series([], dtype: int64)\n"
          ]
        }
      ]
    },
    {
      "cell_type": "code",
      "source": [],
      "metadata": {
        "id": "eOuaIR5CJvLQ"
      },
      "execution_count": null,
      "outputs": []
    },
    {
      "cell_type": "code",
      "source": [],
      "metadata": {
        "id": "qNUF3OURJvkR"
      },
      "execution_count": null,
      "outputs": []
    },
    {
      "cell_type": "markdown",
      "source": [
        "#Indentificando datos duplicados#"
      ],
      "metadata": {
        "id": "u5lHI8v2Jw1x"
      }
    },
    {
      "cell_type": "code",
      "source": [
        "duplicates = df.duplicated().sum()\n",
        "print(f\"\\n🔍 Filas duplicadas: {duplicates}\")\n"
      ],
      "metadata": {
        "id": "NJLys9e9oHcU",
        "colab": {
          "base_uri": "https://localhost:8080/"
        },
        "outputId": "336d486c-6ed8-4db0-aea4-c65bd7af20c5"
      },
      "execution_count": 47,
      "outputs": [
        {
          "output_type": "stream",
          "name": "stdout",
          "text": [
            "\n",
            "🔍 Filas duplicadas: 0\n"
          ]
        }
      ]
    },
    {
      "cell_type": "code",
      "source": [
        "print(\"\\n📋 Tipos de datos:\")\n",
        "print(df.dtypes)"
      ],
      "metadata": {
        "id": "tX_1yr1rKF4d",
        "outputId": "02e29a2a-77e2-48b9-f061-57f5e453f382",
        "colab": {
          "base_uri": "https://localhost:8080/"
        }
      },
      "execution_count": 48,
      "outputs": [
        {
          "output_type": "stream",
          "name": "stdout",
          "text": [
            "\n",
            "📋 Tipos de datos:\n",
            "customerID                    object\n",
            "Churn                         object\n",
            "customer_gender               object\n",
            "customer_SeniorCitizen         int64\n",
            "customer_Partner              object\n",
            "customer_Dependents           object\n",
            "customer_tenure                int64\n",
            "phone_PhoneService            object\n",
            "phone_MultipleLines           object\n",
            "internet_InternetService      object\n",
            "internet_OnlineSecurity       object\n",
            "internet_OnlineBackup         object\n",
            "internet_DeviceProtection     object\n",
            "internet_TechSupport          object\n",
            "internet_StreamingTV          object\n",
            "internet_StreamingMovies      object\n",
            "account_Contract              object\n",
            "account_PaperlessBilling      object\n",
            "account_PaymentMethod         object\n",
            "account_Charges_Monthly      float64\n",
            "account_Charges_Total         object\n",
            "dtype: object\n"
          ]
        }
      ]
    },
    {
      "cell_type": "code",
      "source": [],
      "metadata": {
        "id": "dIbNS7AaKF51"
      },
      "execution_count": null,
      "outputs": []
    },
    {
      "cell_type": "code",
      "source": [
        "df['account_Charges_Total'] = pd.to_numeric(df['account_Charges_Total'], errors='coerce')\n",
        "df['account_Charges_Monthly'] = pd.to_numeric(df['account_Charges_Monthly'], errors='coerce')"
      ],
      "metadata": {
        "id": "d3khkDYpKdXT"
      },
      "execution_count": 49,
      "outputs": []
    },
    {
      "cell_type": "code",
      "source": [
        "print(\"\\n❗ Registros con error al convertir valores numéricos:\")\n",
        "print(df[df['account_Charges_Total'].isnull() | df['account_Charges_Monthly'].isnull()])"
      ],
      "metadata": {
        "id": "l_CVWkaIKiv8",
        "outputId": "abb8057a-6818-474c-ac4d-38f6ab74aea8",
        "colab": {
          "base_uri": "https://localhost:8080/"
        }
      },
      "execution_count": 50,
      "outputs": [
        {
          "output_type": "stream",
          "name": "stdout",
          "text": [
            "\n",
            "❗ Registros con error al convertir valores numéricos:\n",
            "      customerID Churn customer_gender  customer_SeniorCitizen  \\\n",
            "975   1371-DWPAZ    No          Female                       0   \n",
            "1775  2520-SGTTA    No          Female                       0   \n",
            "1955  2775-SEFEE    No            Male                       0   \n",
            "2075  2923-ARZLG    No            Male                       0   \n",
            "2232  3115-CZMZD    No            Male                       0   \n",
            "2308  3213-VVOLG    No            Male                       0   \n",
            "2930  4075-WKNIU    No          Female                       0   \n",
            "3134  4367-NUYAO    No            Male                       0   \n",
            "3203  4472-LVYGI    No          Female                       0   \n",
            "4169  5709-LVOEQ    No          Female                       0   \n",
            "5599  7644-OMVMY    No            Male                       0   \n",
            "\n",
            "     customer_Partner customer_Dependents  customer_tenure phone_PhoneService  \\\n",
            "975               Yes                 Yes                0                 No   \n",
            "1775              Yes                 Yes                0                Yes   \n",
            "1955               No                 Yes                0                Yes   \n",
            "2075              Yes                 Yes                0                Yes   \n",
            "2232               No                 Yes                0                Yes   \n",
            "2308              Yes                 Yes                0                Yes   \n",
            "2930              Yes                 Yes                0                Yes   \n",
            "3134              Yes                 Yes                0                Yes   \n",
            "3203              Yes                 Yes                0                 No   \n",
            "4169              Yes                 Yes                0                Yes   \n",
            "5599              Yes                 Yes                0                Yes   \n",
            "\n",
            "     phone_MultipleLines internet_InternetService  ... internet_OnlineBackup  \\\n",
            "975     No phone service                      DSL  ...                   Yes   \n",
            "1775                  No                       No  ...   No internet service   \n",
            "1955                 Yes                      DSL  ...                   Yes   \n",
            "2075                  No                       No  ...   No internet service   \n",
            "2232                  No                       No  ...   No internet service   \n",
            "2308                 Yes                       No  ...   No internet service   \n",
            "2930                 Yes                      DSL  ...                   Yes   \n",
            "3134                 Yes                       No  ...   No internet service   \n",
            "3203    No phone service                      DSL  ...                    No   \n",
            "4169                  No                      DSL  ...                   Yes   \n",
            "5599                  No                       No  ...   No internet service   \n",
            "\n",
            "     internet_DeviceProtection internet_TechSupport internet_StreamingTV  \\\n",
            "975                        Yes                  Yes                  Yes   \n",
            "1775       No internet service  No internet service  No internet service   \n",
            "1955                        No                  Yes                   No   \n",
            "2075       No internet service  No internet service  No internet service   \n",
            "2232       No internet service  No internet service  No internet service   \n",
            "2308       No internet service  No internet service  No internet service   \n",
            "2930                       Yes                  Yes                  Yes   \n",
            "3134       No internet service  No internet service  No internet service   \n",
            "3203                       Yes                  Yes                  Yes   \n",
            "4169                       Yes                   No                  Yes   \n",
            "5599       No internet service  No internet service  No internet service   \n",
            "\n",
            "     internet_StreamingMovies account_Contract account_PaperlessBilling  \\\n",
            "975                        No         Two year                       No   \n",
            "1775      No internet service         Two year                       No   \n",
            "1955                       No         Two year                      Yes   \n",
            "2075      No internet service         One year                      Yes   \n",
            "2232      No internet service         Two year                       No   \n",
            "2308      No internet service         Two year                       No   \n",
            "2930                       No         Two year                       No   \n",
            "3134      No internet service         Two year                       No   \n",
            "3203                       No         Two year                      Yes   \n",
            "4169                      Yes         Two year                       No   \n",
            "5599      No internet service         Two year                       No   \n",
            "\n",
            "          account_PaymentMethod account_Charges_Monthly  account_Charges_Total  \n",
            "975     Credit card (automatic)                   56.05                    NaN  \n",
            "1775               Mailed check                   20.00                    NaN  \n",
            "1955  Bank transfer (automatic)                   61.90                    NaN  \n",
            "2075               Mailed check                   19.70                    NaN  \n",
            "2232               Mailed check                   20.25                    NaN  \n",
            "2308               Mailed check                   25.35                    NaN  \n",
            "2930               Mailed check                   73.35                    NaN  \n",
            "3134               Mailed check                   25.75                    NaN  \n",
            "3203  Bank transfer (automatic)                   52.55                    NaN  \n",
            "4169               Mailed check                   80.85                    NaN  \n",
            "5599               Mailed check                   19.85                    NaN  \n",
            "\n",
            "[11 rows x 21 columns]\n"
          ]
        }
      ]
    },
    {
      "cell_type": "code",
      "source": [
        "print(\"\\n🎯 Valores únicos por categoría clave:\")\n",
        "for col in ['Churn', 'account_Contract', 'account_PaymentMethod', 'internet_InternetService']:\n",
        "    print(f\"\\n{col}: {df[col].unique()}\")"
      ],
      "metadata": {
        "id": "prWrDXPPKl5T",
        "outputId": "225139da-6d03-46f5-f59a-070877e55d0a",
        "colab": {
          "base_uri": "https://localhost:8080/"
        }
      },
      "execution_count": 51,
      "outputs": [
        {
          "output_type": "stream",
          "name": "stdout",
          "text": [
            "\n",
            "🎯 Valores únicos por categoría clave:\n",
            "\n",
            "Churn: ['No' 'Yes' '']\n",
            "\n",
            "account_Contract: ['One year' 'Month-to-month' 'Two year']\n",
            "\n",
            "account_PaymentMethod: ['Mailed check' 'Electronic check' 'Credit card (automatic)'\n",
            " 'Bank transfer (automatic)']\n",
            "\n",
            "internet_InternetService: ['DSL' 'Fiber optic' 'No']\n"
          ]
        }
      ]
    },
    {
      "cell_type": "code",
      "source": [
        "print(df.columns.tolist())"
      ],
      "metadata": {
        "id": "YqkPN_0tK_Xv",
        "outputId": "74c0a873-b717-45bb-d805-c2e960e02500",
        "colab": {
          "base_uri": "https://localhost:8080/"
        }
      },
      "execution_count": 52,
      "outputs": [
        {
          "output_type": "stream",
          "name": "stdout",
          "text": [
            "['customerID', 'Churn', 'customer_gender', 'customer_SeniorCitizen', 'customer_Partner', 'customer_Dependents', 'customer_tenure', 'phone_PhoneService', 'phone_MultipleLines', 'internet_InternetService', 'internet_OnlineSecurity', 'internet_OnlineBackup', 'internet_DeviceProtection', 'internet_TechSupport', 'internet_StreamingTV', 'internet_StreamingMovies', 'account_Contract', 'account_PaperlessBilling', 'account_PaymentMethod', 'account_Charges_Monthly', 'account_Charges_Total']\n"
          ]
        }
      ]
    },
    {
      "cell_type": "code",
      "source": [],
      "metadata": {
        "id": "Je0XXEmMLOmY"
      },
      "execution_count": null,
      "outputs": []
    },
    {
      "cell_type": "markdown",
      "source": [
        "#Limpieza de datos mal codificados#"
      ],
      "metadata": {
        "id": "RI9f6APkLfMJ"
      }
    },
    {
      "cell_type": "code",
      "source": [
        "df = df.replace(['', ' '], np.nan)"
      ],
      "metadata": {
        "id": "DEJymveMLlCl"
      },
      "execution_count": 53,
      "outputs": []
    },
    {
      "cell_type": "code",
      "source": [
        "nulos = df.isnull().sum()\n",
        "print(\"🕳️ Valores nulos después de limpieza:\\n\", nulos[nulos > 0])"
      ],
      "metadata": {
        "id": "vWJxmu_9Lq7B",
        "outputId": "76c55c66-2d25-4eee-edc1-7a6f94151d83",
        "colab": {
          "base_uri": "https://localhost:8080/"
        }
      },
      "execution_count": 54,
      "outputs": [
        {
          "output_type": "stream",
          "name": "stdout",
          "text": [
            "🕳️ Valores nulos después de limpieza:\n",
            " Churn                    224\n",
            "account_Charges_Total     11\n",
            "dtype: int64\n"
          ]
        }
      ]
    },
    {
      "cell_type": "code",
      "source": [
        "df = df.dropna(subset=['account_Charges_Total'])"
      ],
      "metadata": {
        "id": "lyMVjISXMHJ9"
      },
      "execution_count": 57,
      "outputs": []
    },
    {
      "cell_type": "code",
      "source": [
        "df = df.dropna(subset=['Churn'])"
      ],
      "metadata": {
        "id": "xNCwA8ayMDOr"
      },
      "execution_count": 55,
      "outputs": []
    },
    {
      "cell_type": "code",
      "source": [
        "nulos = df.isnull().sum()\n",
        "print(\"🕳️ Valores nulos después de limpieza:\\n\", nulos[nulos > 0])"
      ],
      "metadata": {
        "id": "SuPIvojIMIZ9",
        "outputId": "a6d0fee3-8db4-4be8-9cf5-a622264498d3",
        "colab": {
          "base_uri": "https://localhost:8080/"
        }
      },
      "execution_count": 58,
      "outputs": [
        {
          "output_type": "stream",
          "name": "stdout",
          "text": [
            "🕳️ Valores nulos después de limpieza:\n",
            " Series([], dtype: int64)\n"
          ]
        }
      ]
    },
    {
      "cell_type": "code",
      "source": [
        "print(df.isnull().sum())"
      ],
      "metadata": {
        "id": "lCocKblONdvk",
        "outputId": "1a0678dc-ff76-4fc8-ec46-99faa15ad3b6",
        "colab": {
          "base_uri": "https://localhost:8080/"
        }
      },
      "execution_count": 59,
      "outputs": [
        {
          "output_type": "stream",
          "name": "stdout",
          "text": [
            "customerID                   0\n",
            "Churn                        0\n",
            "customer_gender              0\n",
            "customer_SeniorCitizen       0\n",
            "customer_Partner             0\n",
            "customer_Dependents          0\n",
            "customer_tenure              0\n",
            "phone_PhoneService           0\n",
            "phone_MultipleLines          0\n",
            "internet_InternetService     0\n",
            "internet_OnlineSecurity      0\n",
            "internet_OnlineBackup        0\n",
            "internet_DeviceProtection    0\n",
            "internet_TechSupport         0\n",
            "internet_StreamingTV         0\n",
            "internet_StreamingMovies     0\n",
            "account_Contract             0\n",
            "account_PaperlessBilling     0\n",
            "account_PaymentMethod        0\n",
            "account_Charges_Monthly      0\n",
            "account_Charges_Total        0\n",
            "dtype: int64\n"
          ]
        }
      ]
    },
    {
      "cell_type": "code",
      "source": [],
      "metadata": {
        "id": "sD_9u1xDNgqx"
      },
      "execution_count": null,
      "outputs": []
    }
  ]
}