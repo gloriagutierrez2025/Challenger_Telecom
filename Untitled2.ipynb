{
  "nbformat": 4,
  "nbformat_minor": 0,
  "metadata": {
    "colab": {
      "provenance": [],
      "mount_file_id": "1lz4HEOB4hI3eGVwIqqtotAFRgVTk5bBZ",
      "authorship_tag": "ABX9TyOlIGlZ1CyQG7C+hh6sA8qO",
      "include_colab_link": true
    },
    "kernelspec": {
      "name": "python3",
      "display_name": "Python 3"
    },
    "language_info": {
      "name": "python"
    }
  },
  "cells": [
    {
      "cell_type": "markdown",
      "metadata": {
        "id": "view-in-github",
        "colab_type": "text"
      },
      "source": [
        "<a href=\"https://colab.research.google.com/github/gloriagutierrez2025/Challenger_Telecom/blob/main/Untitled2.ipynb\" target=\"_parent\"><img src=\"https://colab.research.google.com/assets/colab-badge.svg\" alt=\"Open In Colab\"/></a>"
      ]
    },
    {
      "cell_type": "markdown",
      "source": [
        "#**Importación de Bibliotecas**"
      ],
      "metadata": {
        "id": "mMW_iHsHrjo8"
      }
    },
    {
      "cell_type": "code",
      "source": [
        "import pandas as pd\n",
        "import numpy as np\n",
        "import matplotlib.pyplot as plt\n",
        "import seaborn as sns\n",
        "import requests\n",
        "import json"
      ],
      "metadata": {
        "id": "colR0kMjrdTy"
      },
      "execution_count": null,
      "outputs": []
    },
    {
      "cell_type": "code",
      "source": [
        "url='https://raw.githubusercontent.com/ingridcristh/challenge2-data-science-LATAM/main/TelecomX_Data.json'"
      ],
      "metadata": {
        "id": "GJRphP7uGelw"
      },
      "execution_count": null,
      "outputs": []
    },
    {
      "cell_type": "code",
      "source": [
        "response=requests.get(url)\n",
        "data=response.json()\n",
        "df=pd.json_normalize(data)\n",
        "df.head()\n"
      ],
      "metadata": {
        "colab": {
          "base_uri": "https://localhost:8080/",
          "height": 325
        },
        "id": "CIHoBfpbg2_8",
        "outputId": "c55ad538-345c-45ed-8e37-1a82478f7b36"
      },
      "execution_count": 3,
      "outputs": [
        {
          "output_type": "execute_result",
          "data": {
            "text/plain": [
              "   customerID Churn customer.gender  customer.SeniorCitizen customer.Partner  \\\n",
              "0  0002-ORFBO    No          Female                       0              Yes   \n",
              "1  0003-MKNFE    No            Male                       0               No   \n",
              "2  0004-TLHLJ   Yes            Male                       0               No   \n",
              "3  0011-IGKFF   Yes            Male                       1              Yes   \n",
              "4  0013-EXCHZ   Yes          Female                       1              Yes   \n",
              "\n",
              "  customer.Dependents  customer.tenure phone.PhoneService phone.MultipleLines  \\\n",
              "0                 Yes                9                Yes                  No   \n",
              "1                  No                9                Yes                 Yes   \n",
              "2                  No                4                Yes                  No   \n",
              "3                  No               13                Yes                  No   \n",
              "4                  No                3                Yes                  No   \n",
              "\n",
              "  internet.InternetService  ... internet.OnlineBackup  \\\n",
              "0                      DSL  ...                   Yes   \n",
              "1                      DSL  ...                    No   \n",
              "2              Fiber optic  ...                    No   \n",
              "3              Fiber optic  ...                   Yes   \n",
              "4              Fiber optic  ...                    No   \n",
              "\n",
              "  internet.DeviceProtection internet.TechSupport internet.StreamingTV  \\\n",
              "0                        No                  Yes                  Yes   \n",
              "1                        No                   No                   No   \n",
              "2                       Yes                   No                   No   \n",
              "3                       Yes                   No                  Yes   \n",
              "4                        No                  Yes                  Yes   \n",
              "\n",
              "  internet.StreamingMovies account.Contract account.PaperlessBilling  \\\n",
              "0                       No         One year                      Yes   \n",
              "1                      Yes   Month-to-month                       No   \n",
              "2                       No   Month-to-month                      Yes   \n",
              "3                      Yes   Month-to-month                      Yes   \n",
              "4                       No   Month-to-month                      Yes   \n",
              "\n",
              "  account.PaymentMethod account.Charges.Monthly  account.Charges.Total  \n",
              "0          Mailed check                    65.6                  593.3  \n",
              "1          Mailed check                    59.9                  542.4  \n",
              "2      Electronic check                    73.9                 280.85  \n",
              "3      Electronic check                    98.0                1237.85  \n",
              "4          Mailed check                    83.9                  267.4  \n",
              "\n",
              "[5 rows x 21 columns]"
            ],
            "text/html": [
              "\n",
              "  <div id=\"df-4ff3ae8e-8b18-4e15-ad87-b77ef91ab94d\" class=\"colab-df-container\">\n",
              "    <div>\n",
              "<style scoped>\n",
              "    .dataframe tbody tr th:only-of-type {\n",
              "        vertical-align: middle;\n",
              "    }\n",
              "\n",
              "    .dataframe tbody tr th {\n",
              "        vertical-align: top;\n",
              "    }\n",
              "\n",
              "    .dataframe thead th {\n",
              "        text-align: right;\n",
              "    }\n",
              "</style>\n",
              "<table border=\"1\" class=\"dataframe\">\n",
              "  <thead>\n",
              "    <tr style=\"text-align: right;\">\n",
              "      <th></th>\n",
              "      <th>customerID</th>\n",
              "      <th>Churn</th>\n",
              "      <th>customer.gender</th>\n",
              "      <th>customer.SeniorCitizen</th>\n",
              "      <th>customer.Partner</th>\n",
              "      <th>customer.Dependents</th>\n",
              "      <th>customer.tenure</th>\n",
              "      <th>phone.PhoneService</th>\n",
              "      <th>phone.MultipleLines</th>\n",
              "      <th>internet.InternetService</th>\n",
              "      <th>...</th>\n",
              "      <th>internet.OnlineBackup</th>\n",
              "      <th>internet.DeviceProtection</th>\n",
              "      <th>internet.TechSupport</th>\n",
              "      <th>internet.StreamingTV</th>\n",
              "      <th>internet.StreamingMovies</th>\n",
              "      <th>account.Contract</th>\n",
              "      <th>account.PaperlessBilling</th>\n",
              "      <th>account.PaymentMethod</th>\n",
              "      <th>account.Charges.Monthly</th>\n",
              "      <th>account.Charges.Total</th>\n",
              "    </tr>\n",
              "  </thead>\n",
              "  <tbody>\n",
              "    <tr>\n",
              "      <th>0</th>\n",
              "      <td>0002-ORFBO</td>\n",
              "      <td>No</td>\n",
              "      <td>Female</td>\n",
              "      <td>0</td>\n",
              "      <td>Yes</td>\n",
              "      <td>Yes</td>\n",
              "      <td>9</td>\n",
              "      <td>Yes</td>\n",
              "      <td>No</td>\n",
              "      <td>DSL</td>\n",
              "      <td>...</td>\n",
              "      <td>Yes</td>\n",
              "      <td>No</td>\n",
              "      <td>Yes</td>\n",
              "      <td>Yes</td>\n",
              "      <td>No</td>\n",
              "      <td>One year</td>\n",
              "      <td>Yes</td>\n",
              "      <td>Mailed check</td>\n",
              "      <td>65.6</td>\n",
              "      <td>593.3</td>\n",
              "    </tr>\n",
              "    <tr>\n",
              "      <th>1</th>\n",
              "      <td>0003-MKNFE</td>\n",
              "      <td>No</td>\n",
              "      <td>Male</td>\n",
              "      <td>0</td>\n",
              "      <td>No</td>\n",
              "      <td>No</td>\n",
              "      <td>9</td>\n",
              "      <td>Yes</td>\n",
              "      <td>Yes</td>\n",
              "      <td>DSL</td>\n",
              "      <td>...</td>\n",
              "      <td>No</td>\n",
              "      <td>No</td>\n",
              "      <td>No</td>\n",
              "      <td>No</td>\n",
              "      <td>Yes</td>\n",
              "      <td>Month-to-month</td>\n",
              "      <td>No</td>\n",
              "      <td>Mailed check</td>\n",
              "      <td>59.9</td>\n",
              "      <td>542.4</td>\n",
              "    </tr>\n",
              "    <tr>\n",
              "      <th>2</th>\n",
              "      <td>0004-TLHLJ</td>\n",
              "      <td>Yes</td>\n",
              "      <td>Male</td>\n",
              "      <td>0</td>\n",
              "      <td>No</td>\n",
              "      <td>No</td>\n",
              "      <td>4</td>\n",
              "      <td>Yes</td>\n",
              "      <td>No</td>\n",
              "      <td>Fiber optic</td>\n",
              "      <td>...</td>\n",
              "      <td>No</td>\n",
              "      <td>Yes</td>\n",
              "      <td>No</td>\n",
              "      <td>No</td>\n",
              "      <td>No</td>\n",
              "      <td>Month-to-month</td>\n",
              "      <td>Yes</td>\n",
              "      <td>Electronic check</td>\n",
              "      <td>73.9</td>\n",
              "      <td>280.85</td>\n",
              "    </tr>\n",
              "    <tr>\n",
              "      <th>3</th>\n",
              "      <td>0011-IGKFF</td>\n",
              "      <td>Yes</td>\n",
              "      <td>Male</td>\n",
              "      <td>1</td>\n",
              "      <td>Yes</td>\n",
              "      <td>No</td>\n",
              "      <td>13</td>\n",
              "      <td>Yes</td>\n",
              "      <td>No</td>\n",
              "      <td>Fiber optic</td>\n",
              "      <td>...</td>\n",
              "      <td>Yes</td>\n",
              "      <td>Yes</td>\n",
              "      <td>No</td>\n",
              "      <td>Yes</td>\n",
              "      <td>Yes</td>\n",
              "      <td>Month-to-month</td>\n",
              "      <td>Yes</td>\n",
              "      <td>Electronic check</td>\n",
              "      <td>98.0</td>\n",
              "      <td>1237.85</td>\n",
              "    </tr>\n",
              "    <tr>\n",
              "      <th>4</th>\n",
              "      <td>0013-EXCHZ</td>\n",
              "      <td>Yes</td>\n",
              "      <td>Female</td>\n",
              "      <td>1</td>\n",
              "      <td>Yes</td>\n",
              "      <td>No</td>\n",
              "      <td>3</td>\n",
              "      <td>Yes</td>\n",
              "      <td>No</td>\n",
              "      <td>Fiber optic</td>\n",
              "      <td>...</td>\n",
              "      <td>No</td>\n",
              "      <td>No</td>\n",
              "      <td>Yes</td>\n",
              "      <td>Yes</td>\n",
              "      <td>No</td>\n",
              "      <td>Month-to-month</td>\n",
              "      <td>Yes</td>\n",
              "      <td>Mailed check</td>\n",
              "      <td>83.9</td>\n",
              "      <td>267.4</td>\n",
              "    </tr>\n",
              "  </tbody>\n",
              "</table>\n",
              "<p>5 rows × 21 columns</p>\n",
              "</div>\n",
              "    <div class=\"colab-df-buttons\">\n",
              "\n",
              "  <div class=\"colab-df-container\">\n",
              "    <button class=\"colab-df-convert\" onclick=\"convertToInteractive('df-4ff3ae8e-8b18-4e15-ad87-b77ef91ab94d')\"\n",
              "            title=\"Convert this dataframe to an interactive table.\"\n",
              "            style=\"display:none;\">\n",
              "\n",
              "  <svg xmlns=\"http://www.w3.org/2000/svg\" height=\"24px\" viewBox=\"0 -960 960 960\">\n",
              "    <path d=\"M120-120v-720h720v720H120Zm60-500h600v-160H180v160Zm220 220h160v-160H400v160Zm0 220h160v-160H400v160ZM180-400h160v-160H180v160Zm440 0h160v-160H620v160ZM180-180h160v-160H180v160Zm440 0h160v-160H620v160Z\"/>\n",
              "  </svg>\n",
              "    </button>\n",
              "\n",
              "  <style>\n",
              "    .colab-df-container {\n",
              "      display:flex;\n",
              "      gap: 12px;\n",
              "    }\n",
              "\n",
              "    .colab-df-convert {\n",
              "      background-color: #E8F0FE;\n",
              "      border: none;\n",
              "      border-radius: 50%;\n",
              "      cursor: pointer;\n",
              "      display: none;\n",
              "      fill: #1967D2;\n",
              "      height: 32px;\n",
              "      padding: 0 0 0 0;\n",
              "      width: 32px;\n",
              "    }\n",
              "\n",
              "    .colab-df-convert:hover {\n",
              "      background-color: #E2EBFA;\n",
              "      box-shadow: 0px 1px 2px rgba(60, 64, 67, 0.3), 0px 1px 3px 1px rgba(60, 64, 67, 0.15);\n",
              "      fill: #174EA6;\n",
              "    }\n",
              "\n",
              "    .colab-df-buttons div {\n",
              "      margin-bottom: 4px;\n",
              "    }\n",
              "\n",
              "    [theme=dark] .colab-df-convert {\n",
              "      background-color: #3B4455;\n",
              "      fill: #D2E3FC;\n",
              "    }\n",
              "\n",
              "    [theme=dark] .colab-df-convert:hover {\n",
              "      background-color: #434B5C;\n",
              "      box-shadow: 0px 1px 3px 1px rgba(0, 0, 0, 0.15);\n",
              "      filter: drop-shadow(0px 1px 2px rgba(0, 0, 0, 0.3));\n",
              "      fill: #FFFFFF;\n",
              "    }\n",
              "  </style>\n",
              "\n",
              "    <script>\n",
              "      const buttonEl =\n",
              "        document.querySelector('#df-4ff3ae8e-8b18-4e15-ad87-b77ef91ab94d button.colab-df-convert');\n",
              "      buttonEl.style.display =\n",
              "        google.colab.kernel.accessAllowed ? 'block' : 'none';\n",
              "\n",
              "      async function convertToInteractive(key) {\n",
              "        const element = document.querySelector('#df-4ff3ae8e-8b18-4e15-ad87-b77ef91ab94d');\n",
              "        const dataTable =\n",
              "          await google.colab.kernel.invokeFunction('convertToInteractive',\n",
              "                                                    [key], {});\n",
              "        if (!dataTable) return;\n",
              "\n",
              "        const docLinkHtml = 'Like what you see? Visit the ' +\n",
              "          '<a target=\"_blank\" href=https://colab.research.google.com/notebooks/data_table.ipynb>data table notebook</a>'\n",
              "          + ' to learn more about interactive tables.';\n",
              "        element.innerHTML = '';\n",
              "        dataTable['output_type'] = 'display_data';\n",
              "        await google.colab.output.renderOutput(dataTable, element);\n",
              "        const docLink = document.createElement('div');\n",
              "        docLink.innerHTML = docLinkHtml;\n",
              "        element.appendChild(docLink);\n",
              "      }\n",
              "    </script>\n",
              "  </div>\n",
              "\n",
              "\n",
              "    <div id=\"df-113016a6-d701-46e3-9b95-e71acbbaa7d5\">\n",
              "      <button class=\"colab-df-quickchart\" onclick=\"quickchart('df-113016a6-d701-46e3-9b95-e71acbbaa7d5')\"\n",
              "                title=\"Suggest charts\"\n",
              "                style=\"display:none;\">\n",
              "\n",
              "<svg xmlns=\"http://www.w3.org/2000/svg\" height=\"24px\"viewBox=\"0 0 24 24\"\n",
              "     width=\"24px\">\n",
              "    <g>\n",
              "        <path d=\"M19 3H5c-1.1 0-2 .9-2 2v14c0 1.1.9 2 2 2h14c1.1 0 2-.9 2-2V5c0-1.1-.9-2-2-2zM9 17H7v-7h2v7zm4 0h-2V7h2v10zm4 0h-2v-4h2v4z\"/>\n",
              "    </g>\n",
              "</svg>\n",
              "      </button>\n",
              "\n",
              "<style>\n",
              "  .colab-df-quickchart {\n",
              "      --bg-color: #E8F0FE;\n",
              "      --fill-color: #1967D2;\n",
              "      --hover-bg-color: #E2EBFA;\n",
              "      --hover-fill-color: #174EA6;\n",
              "      --disabled-fill-color: #AAA;\n",
              "      --disabled-bg-color: #DDD;\n",
              "  }\n",
              "\n",
              "  [theme=dark] .colab-df-quickchart {\n",
              "      --bg-color: #3B4455;\n",
              "      --fill-color: #D2E3FC;\n",
              "      --hover-bg-color: #434B5C;\n",
              "      --hover-fill-color: #FFFFFF;\n",
              "      --disabled-bg-color: #3B4455;\n",
              "      --disabled-fill-color: #666;\n",
              "  }\n",
              "\n",
              "  .colab-df-quickchart {\n",
              "    background-color: var(--bg-color);\n",
              "    border: none;\n",
              "    border-radius: 50%;\n",
              "    cursor: pointer;\n",
              "    display: none;\n",
              "    fill: var(--fill-color);\n",
              "    height: 32px;\n",
              "    padding: 0;\n",
              "    width: 32px;\n",
              "  }\n",
              "\n",
              "  .colab-df-quickchart:hover {\n",
              "    background-color: var(--hover-bg-color);\n",
              "    box-shadow: 0 1px 2px rgba(60, 64, 67, 0.3), 0 1px 3px 1px rgba(60, 64, 67, 0.15);\n",
              "    fill: var(--button-hover-fill-color);\n",
              "  }\n",
              "\n",
              "  .colab-df-quickchart-complete:disabled,\n",
              "  .colab-df-quickchart-complete:disabled:hover {\n",
              "    background-color: var(--disabled-bg-color);\n",
              "    fill: var(--disabled-fill-color);\n",
              "    box-shadow: none;\n",
              "  }\n",
              "\n",
              "  .colab-df-spinner {\n",
              "    border: 2px solid var(--fill-color);\n",
              "    border-color: transparent;\n",
              "    border-bottom-color: var(--fill-color);\n",
              "    animation:\n",
              "      spin 1s steps(1) infinite;\n",
              "  }\n",
              "\n",
              "  @keyframes spin {\n",
              "    0% {\n",
              "      border-color: transparent;\n",
              "      border-bottom-color: var(--fill-color);\n",
              "      border-left-color: var(--fill-color);\n",
              "    }\n",
              "    20% {\n",
              "      border-color: transparent;\n",
              "      border-left-color: var(--fill-color);\n",
              "      border-top-color: var(--fill-color);\n",
              "    }\n",
              "    30% {\n",
              "      border-color: transparent;\n",
              "      border-left-color: var(--fill-color);\n",
              "      border-top-color: var(--fill-color);\n",
              "      border-right-color: var(--fill-color);\n",
              "    }\n",
              "    40% {\n",
              "      border-color: transparent;\n",
              "      border-right-color: var(--fill-color);\n",
              "      border-top-color: var(--fill-color);\n",
              "    }\n",
              "    60% {\n",
              "      border-color: transparent;\n",
              "      border-right-color: var(--fill-color);\n",
              "    }\n",
              "    80% {\n",
              "      border-color: transparent;\n",
              "      border-right-color: var(--fill-color);\n",
              "      border-bottom-color: var(--fill-color);\n",
              "    }\n",
              "    90% {\n",
              "      border-color: transparent;\n",
              "      border-bottom-color: var(--fill-color);\n",
              "    }\n",
              "  }\n",
              "</style>\n",
              "\n",
              "      <script>\n",
              "        async function quickchart(key) {\n",
              "          const quickchartButtonEl =\n",
              "            document.querySelector('#' + key + ' button');\n",
              "          quickchartButtonEl.disabled = true;  // To prevent multiple clicks.\n",
              "          quickchartButtonEl.classList.add('colab-df-spinner');\n",
              "          try {\n",
              "            const charts = await google.colab.kernel.invokeFunction(\n",
              "                'suggestCharts', [key], {});\n",
              "          } catch (error) {\n",
              "            console.error('Error during call to suggestCharts:', error);\n",
              "          }\n",
              "          quickchartButtonEl.classList.remove('colab-df-spinner');\n",
              "          quickchartButtonEl.classList.add('colab-df-quickchart-complete');\n",
              "        }\n",
              "        (() => {\n",
              "          let quickchartButtonEl =\n",
              "            document.querySelector('#df-113016a6-d701-46e3-9b95-e71acbbaa7d5 button');\n",
              "          quickchartButtonEl.style.display =\n",
              "            google.colab.kernel.accessAllowed ? 'block' : 'none';\n",
              "        })();\n",
              "      </script>\n",
              "    </div>\n",
              "\n",
              "    </div>\n",
              "  </div>\n"
            ],
            "application/vnd.google.colaboratory.intrinsic+json": {
              "type": "dataframe",
              "variable_name": "df"
            }
          },
          "metadata": {},
          "execution_count": 3
        }
      ]
    },
    {
      "cell_type": "code",
      "source": [
        "df.columns = df.columns.str.replace('.', '_', regex=False)"
      ],
      "metadata": {
        "id": "JgOpBY2Pho9G"
      },
      "execution_count": 4,
      "outputs": []
    },
    {
      "cell_type": "markdown",
      "source": [],
      "metadata": {
        "id": "yghPHRjuJk9_"
      }
    },
    {
      "cell_type": "markdown",
      "source": [
        "#Identificando valores nulos"
      ],
      "metadata": {
        "id": "4chEWdmDJk_9"
      }
    },
    {
      "cell_type": "code",
      "source": [
        "missing = df.isnull().sum()\n",
        "print(\"🔍 Valores ausentes por columna:\\n\", missing[missing > 0])"
      ],
      "metadata": {
        "id": "mhaqU776lAhH",
        "colab": {
          "base_uri": "https://localhost:8080/"
        },
        "outputId": "6a1e10a2-64a4-4f8b-efe1-e8b0d6b63902"
      },
      "execution_count": 5,
      "outputs": [
        {
          "output_type": "stream",
          "name": "stdout",
          "text": [
            "🔍 Valores ausentes por columna:\n",
            " Series([], dtype: int64)\n"
          ]
        }
      ]
    },
    {
      "cell_type": "markdown",
      "source": [
        "#Indentificando datos duplicados#"
      ],
      "metadata": {
        "id": "u5lHI8v2Jw1x"
      }
    },
    {
      "cell_type": "code",
      "source": [
        "duplicates = df.duplicated().sum()\n",
        "print(f\"\\n🔍 Filas duplicadas: {duplicates}\")\n"
      ],
      "metadata": {
        "id": "NJLys9e9oHcU",
        "colab": {
          "base_uri": "https://localhost:8080/"
        },
        "outputId": "006ae9fe-96b0-44a9-c743-fa0ccf396605"
      },
      "execution_count": 6,
      "outputs": [
        {
          "output_type": "stream",
          "name": "stdout",
          "text": [
            "\n",
            "🔍 Filas duplicadas: 0\n"
          ]
        }
      ]
    },
    {
      "cell_type": "code",
      "source": [
        "print(\"\\n📋 Tipos de datos:\")\n",
        "print(df.dtypes)"
      ],
      "metadata": {
        "colab": {
          "base_uri": "https://localhost:8080/"
        },
        "id": "tX_1yr1rKF4d",
        "outputId": "fb40147e-fd84-4892-91c2-16f2b2f38c14"
      },
      "execution_count": 7,
      "outputs": [
        {
          "output_type": "stream",
          "name": "stdout",
          "text": [
            "\n",
            "📋 Tipos de datos:\n",
            "customerID                    object\n",
            "Churn                         object\n",
            "customer_gender               object\n",
            "customer_SeniorCitizen         int64\n",
            "customer_Partner              object\n",
            "customer_Dependents           object\n",
            "customer_tenure                int64\n",
            "phone_PhoneService            object\n",
            "phone_MultipleLines           object\n",
            "internet_InternetService      object\n",
            "internet_OnlineSecurity       object\n",
            "internet_OnlineBackup         object\n",
            "internet_DeviceProtection     object\n",
            "internet_TechSupport          object\n",
            "internet_StreamingTV          object\n",
            "internet_StreamingMovies      object\n",
            "account_Contract              object\n",
            "account_PaperlessBilling      object\n",
            "account_PaymentMethod         object\n",
            "account_Charges_Monthly      float64\n",
            "account_Charges_Total         object\n",
            "dtype: object\n"
          ]
        }
      ]
    },
    {
      "cell_type": "code",
      "source": [
        "df['account_Charges_Total'] = pd.to_numeric(df['account_Charges_Total'], errors='coerce')\n",
        "df['account_Charges_Monthly'] = pd.to_numeric(df['account_Charges_Monthly'], errors='coerce')"
      ],
      "metadata": {
        "id": "d3khkDYpKdXT"
      },
      "execution_count": 8,
      "outputs": []
    },
    {
      "cell_type": "code",
      "source": [
        "print(\"\\n❗ Registros con error al convertir valores numéricos:\")\n",
        "print(df[df['account_Charges_Total'].isnull() | df['account_Charges_Monthly'].isnull()])"
      ],
      "metadata": {
        "colab": {
          "base_uri": "https://localhost:8080/"
        },
        "id": "l_CVWkaIKiv8",
        "outputId": "8886fcd3-4901-4f8d-9b62-38f896fab0ed"
      },
      "execution_count": 9,
      "outputs": [
        {
          "output_type": "stream",
          "name": "stdout",
          "text": [
            "\n",
            "❗ Registros con error al convertir valores numéricos:\n",
            "      customerID Churn customer_gender  customer_SeniorCitizen  \\\n",
            "975   1371-DWPAZ    No          Female                       0   \n",
            "1775  2520-SGTTA    No          Female                       0   \n",
            "1955  2775-SEFEE    No            Male                       0   \n",
            "2075  2923-ARZLG    No            Male                       0   \n",
            "2232  3115-CZMZD    No            Male                       0   \n",
            "2308  3213-VVOLG    No            Male                       0   \n",
            "2930  4075-WKNIU    No          Female                       0   \n",
            "3134  4367-NUYAO    No            Male                       0   \n",
            "3203  4472-LVYGI    No          Female                       0   \n",
            "4169  5709-LVOEQ    No          Female                       0   \n",
            "5599  7644-OMVMY    No            Male                       0   \n",
            "\n",
            "     customer_Partner customer_Dependents  customer_tenure phone_PhoneService  \\\n",
            "975               Yes                 Yes                0                 No   \n",
            "1775              Yes                 Yes                0                Yes   \n",
            "1955               No                 Yes                0                Yes   \n",
            "2075              Yes                 Yes                0                Yes   \n",
            "2232               No                 Yes                0                Yes   \n",
            "2308              Yes                 Yes                0                Yes   \n",
            "2930              Yes                 Yes                0                Yes   \n",
            "3134              Yes                 Yes                0                Yes   \n",
            "3203              Yes                 Yes                0                 No   \n",
            "4169              Yes                 Yes                0                Yes   \n",
            "5599              Yes                 Yes                0                Yes   \n",
            "\n",
            "     phone_MultipleLines internet_InternetService  ... internet_OnlineBackup  \\\n",
            "975     No phone service                      DSL  ...                   Yes   \n",
            "1775                  No                       No  ...   No internet service   \n",
            "1955                 Yes                      DSL  ...                   Yes   \n",
            "2075                  No                       No  ...   No internet service   \n",
            "2232                  No                       No  ...   No internet service   \n",
            "2308                 Yes                       No  ...   No internet service   \n",
            "2930                 Yes                      DSL  ...                   Yes   \n",
            "3134                 Yes                       No  ...   No internet service   \n",
            "3203    No phone service                      DSL  ...                    No   \n",
            "4169                  No                      DSL  ...                   Yes   \n",
            "5599                  No                       No  ...   No internet service   \n",
            "\n",
            "     internet_DeviceProtection internet_TechSupport internet_StreamingTV  \\\n",
            "975                        Yes                  Yes                  Yes   \n",
            "1775       No internet service  No internet service  No internet service   \n",
            "1955                        No                  Yes                   No   \n",
            "2075       No internet service  No internet service  No internet service   \n",
            "2232       No internet service  No internet service  No internet service   \n",
            "2308       No internet service  No internet service  No internet service   \n",
            "2930                       Yes                  Yes                  Yes   \n",
            "3134       No internet service  No internet service  No internet service   \n",
            "3203                       Yes                  Yes                  Yes   \n",
            "4169                       Yes                   No                  Yes   \n",
            "5599       No internet service  No internet service  No internet service   \n",
            "\n",
            "     internet_StreamingMovies account_Contract account_PaperlessBilling  \\\n",
            "975                        No         Two year                       No   \n",
            "1775      No internet service         Two year                       No   \n",
            "1955                       No         Two year                      Yes   \n",
            "2075      No internet service         One year                      Yes   \n",
            "2232      No internet service         Two year                       No   \n",
            "2308      No internet service         Two year                       No   \n",
            "2930                       No         Two year                       No   \n",
            "3134      No internet service         Two year                       No   \n",
            "3203                       No         Two year                      Yes   \n",
            "4169                      Yes         Two year                       No   \n",
            "5599      No internet service         Two year                       No   \n",
            "\n",
            "          account_PaymentMethod account_Charges_Monthly  account_Charges_Total  \n",
            "975     Credit card (automatic)                   56.05                    NaN  \n",
            "1775               Mailed check                   20.00                    NaN  \n",
            "1955  Bank transfer (automatic)                   61.90                    NaN  \n",
            "2075               Mailed check                   19.70                    NaN  \n",
            "2232               Mailed check                   20.25                    NaN  \n",
            "2308               Mailed check                   25.35                    NaN  \n",
            "2930               Mailed check                   73.35                    NaN  \n",
            "3134               Mailed check                   25.75                    NaN  \n",
            "3203  Bank transfer (automatic)                   52.55                    NaN  \n",
            "4169               Mailed check                   80.85                    NaN  \n",
            "5599               Mailed check                   19.85                    NaN  \n",
            "\n",
            "[11 rows x 21 columns]\n"
          ]
        }
      ]
    },
    {
      "cell_type": "code",
      "source": [
        "print(\"\\n🎯 Valores únicos por categoría clave:\")\n",
        "for col in ['Churn', 'account_Contract', 'account_PaymentMethod', 'internet_InternetService']:\n",
        "    print(f\"\\n{col}: {df[col].unique()}\")"
      ],
      "metadata": {
        "colab": {
          "base_uri": "https://localhost:8080/"
        },
        "id": "prWrDXPPKl5T",
        "outputId": "5b3884ee-5a07-4b41-8ab4-a80eff03781e"
      },
      "execution_count": 10,
      "outputs": [
        {
          "output_type": "stream",
          "name": "stdout",
          "text": [
            "\n",
            "🎯 Valores únicos por categoría clave:\n",
            "\n",
            "Churn: ['No' 'Yes' '']\n",
            "\n",
            "account_Contract: ['One year' 'Month-to-month' 'Two year']\n",
            "\n",
            "account_PaymentMethod: ['Mailed check' 'Electronic check' 'Credit card (automatic)'\n",
            " 'Bank transfer (automatic)']\n",
            "\n",
            "internet_InternetService: ['DSL' 'Fiber optic' 'No']\n"
          ]
        }
      ]
    },
    {
      "cell_type": "code",
      "source": [
        "print(df.columns.tolist())"
      ],
      "metadata": {
        "colab": {
          "base_uri": "https://localhost:8080/"
        },
        "id": "YqkPN_0tK_Xv",
        "outputId": "685b6273-c706-4fb8-a133-1cb02d53e24c"
      },
      "execution_count": 11,
      "outputs": [
        {
          "output_type": "stream",
          "name": "stdout",
          "text": [
            "['customerID', 'Churn', 'customer_gender', 'customer_SeniorCitizen', 'customer_Partner', 'customer_Dependents', 'customer_tenure', 'phone_PhoneService', 'phone_MultipleLines', 'internet_InternetService', 'internet_OnlineSecurity', 'internet_OnlineBackup', 'internet_DeviceProtection', 'internet_TechSupport', 'internet_StreamingTV', 'internet_StreamingMovies', 'account_Contract', 'account_PaperlessBilling', 'account_PaymentMethod', 'account_Charges_Monthly', 'account_Charges_Total']\n"
          ]
        }
      ]
    },
    {
      "cell_type": "markdown",
      "source": [
        "#Limpieza de datos mal codificados#"
      ],
      "metadata": {
        "id": "RI9f6APkLfMJ"
      }
    },
    {
      "cell_type": "code",
      "source": [
        "df = df.replace(['', ' '], np.nan)"
      ],
      "metadata": {
        "id": "DEJymveMLlCl"
      },
      "execution_count": 12,
      "outputs": []
    },
    {
      "cell_type": "code",
      "source": [
        "nulos = df.isnull().sum()\n",
        "print(\"🕳️ Valores nulos después de limpieza:\\n\", nulos[nulos > 0])"
      ],
      "metadata": {
        "colab": {
          "base_uri": "https://localhost:8080/"
        },
        "id": "vWJxmu_9Lq7B",
        "outputId": "f69ae042-862e-497e-a54a-551359d954b4"
      },
      "execution_count": 13,
      "outputs": [
        {
          "output_type": "stream",
          "name": "stdout",
          "text": [
            "🕳️ Valores nulos después de limpieza:\n",
            " Churn                    224\n",
            "account_Charges_Total     11\n",
            "dtype: int64\n"
          ]
        }
      ]
    },
    {
      "cell_type": "code",
      "source": [
        "df = df.dropna(subset=['account_Charges_Total'])"
      ],
      "metadata": {
        "id": "lyMVjISXMHJ9"
      },
      "execution_count": 14,
      "outputs": []
    },
    {
      "cell_type": "code",
      "source": [
        "df = df.dropna(subset=['Churn'])"
      ],
      "metadata": {
        "id": "xNCwA8ayMDOr"
      },
      "execution_count": 15,
      "outputs": []
    },
    {
      "cell_type": "code",
      "source": [
        "nulos = df.isnull().sum()\n",
        "print(\"🕳️ Valores nulos después de limpieza:\\n\", nulos[nulos > 0])"
      ],
      "metadata": {
        "colab": {
          "base_uri": "https://localhost:8080/"
        },
        "id": "SuPIvojIMIZ9",
        "outputId": "08c21b0d-91d2-4f06-ce02-5b6b423a61bc"
      },
      "execution_count": 16,
      "outputs": [
        {
          "output_type": "stream",
          "name": "stdout",
          "text": [
            "🕳️ Valores nulos después de limpieza:\n",
            " Series([], dtype: int64)\n"
          ]
        }
      ]
    },
    {
      "cell_type": "code",
      "source": [
        "print(df.isnull().sum())"
      ],
      "metadata": {
        "colab": {
          "base_uri": "https://localhost:8080/"
        },
        "id": "lCocKblONdvk",
        "outputId": "b7445e88-2d74-4a18-c5b6-3687653ee0c3"
      },
      "execution_count": 17,
      "outputs": [
        {
          "output_type": "stream",
          "name": "stdout",
          "text": [
            "customerID                   0\n",
            "Churn                        0\n",
            "customer_gender              0\n",
            "customer_SeniorCitizen       0\n",
            "customer_Partner             0\n",
            "customer_Dependents          0\n",
            "customer_tenure              0\n",
            "phone_PhoneService           0\n",
            "phone_MultipleLines          0\n",
            "internet_InternetService     0\n",
            "internet_OnlineSecurity      0\n",
            "internet_OnlineBackup        0\n",
            "internet_DeviceProtection    0\n",
            "internet_TechSupport         0\n",
            "internet_StreamingTV         0\n",
            "internet_StreamingMovies     0\n",
            "account_Contract             0\n",
            "account_PaperlessBilling     0\n",
            "account_PaymentMethod        0\n",
            "account_Charges_Monthly      0\n",
            "account_Charges_Total        0\n",
            "dtype: int64\n"
          ]
        }
      ]
    },
    {
      "cell_type": "code",
      "source": [
        "def limpiar_dataset_telecom(data):\n",
        "  \"\"\"\n",
        "    Limpia un dataset de clientes tipo Telco-Churn.\n",
        "\n",
        "    Retorna un DataFrame listo para análisis o modelado.\n",
        "    \"\"\""
      ],
      "metadata": {
        "id": "bA7FcXmwpg5S"
      },
      "execution_count": 18,
      "outputs": []
    },
    {
      "cell_type": "code",
      "source": [
        "df = pd.json_normalize(data)\n",
        "df.columns = df.columns.str.replace('.', '_', regex=False)"
      ],
      "metadata": {
        "id": "ThAKB7THpg9Y"
      },
      "execution_count": 19,
      "outputs": []
    },
    {
      "cell_type": "code",
      "source": [
        " df = df.replace(['', ' '], np.nan)"
      ],
      "metadata": {
        "id": "XnZ0QVCjrqva"
      },
      "execution_count": 20,
      "outputs": []
    },
    {
      "cell_type": "code",
      "source": [
        "df = df.drop_duplicates()"
      ],
      "metadata": {
        "id": "dRmtYA8irxph"
      },
      "execution_count": 21,
      "outputs": []
    },
    {
      "cell_type": "code",
      "source": [
        "if 'Churn' in df.columns:\n",
        "        df = df[df['Churn'].isin(['Yes', 'No'])]"
      ],
      "metadata": {
        "id": "z3SVjXaFsg15"
      },
      "execution_count": 22,
      "outputs": []
    },
    {
      "cell_type": "code",
      "source": [
        "for col in df.columns:\n",
        "        if 'Charges' in col or 'tenure' in col:\n",
        "            df[col] = pd.to_numeric(df[col], errors='coerce')"
      ],
      "metadata": {
        "id": "gss1Gx2-smN-"
      },
      "execution_count": 23,
      "outputs": []
    },
    {
      "cell_type": "code",
      "source": [
        "for col in df.columns:\n",
        "        if df[col].isnull().sum() > 0:\n",
        "            if df[col].dtype == 'object':\n",
        "                df[col] = df[col].fillna(df[col].mode()[0])\n",
        "            else:\n",
        "                df[col] = df[col].fillna(df[col].mean())"
      ],
      "metadata": {
        "id": "eHzQtIQyssG1"
      },
      "execution_count": 24,
      "outputs": []
    },
    {
      "cell_type": "code",
      "source": [
        "for col in df.select_dtypes(include='float64').columns:\n",
        "        if all(df[col].dropna() == df[col].dropna().astype(int)):\n",
        "            df[col] = df[col].astype(int)"
      ],
      "metadata": {
        "id": "a2PY8uCpsxha"
      },
      "execution_count": 25,
      "outputs": []
    },
    {
      "cell_type": "markdown",
      "source": [
        "#Estandarización de datos, codificación de columnas textuales Yes / No, en binarios 1-0#"
      ],
      "metadata": {
        "id": "lrvoqKxcs5EF"
      }
    },
    {
      "cell_type": "code",
      "source": [
        "import pandas as pd\n",
        "import numpy as np\n",
        "\n",
        "def limpiar_dataset_telecom(data, exportar_csv=False):\n",
        "    \"\"\"\n",
        "    Limpia un dataset de clientes tipo Telco-Churn:\n",
        "    - Normaliza estructura JSON.\n",
        "    - Limpia datos nulos, inconsistentes y duplicaods.\n",
        "    - Codifica variables binarias Yes/No → 1/0.\n",
        "    - Renombra columnas clave a nombres en español.\n",
        "    - (Opcional) Exporta a archivo CSV.\n",
        "\n",
        "    Parámetros:\n",
        "        data: JSON cargado (list of dicts).\n",
        "        exportar_csv: bool → si True, exporta 'dataset_limpio.csv'\n",
        "\n",
        "    Retorna:\n",
        "        df (DataFrame limpio)\n",
        "    \"\"\"\n",
        "\n",
        "    df = pd.json_normalize(data)\n",
        "    df.columns = df.columns.str.replace('.', '_', regex=False)\n",
        "    df = df.replace(['', ' '], np.nan)\n",
        "    df = df.drop_duplicates()\n",
        "\n",
        "    if 'Churn' in df.columns:\n",
        "        df = df[df['Churn'].isin(['Yes', 'No'])]\n",
        "\n",
        "    for col in df.columns:\n",
        "        if 'Charges' in col or 'tenure' in col:\n",
        "            df[col] = pd.to_numeric(df[col], errors='coerce')\n",
        "\n",
        "    for col in df.columns:\n",
        "        if df[col].isnull().sum() > 0:\n",
        "            if df[col].dtype == 'object':\n",
        "                df[col] = df[col].fillna(df[col].mode()[0])\n",
        "            else:\n",
        "                df[col] = df[col].fillna(df[col].mean())\n",
        "\n",
        "    for col in df.select_dtypes(include='float64').columns:\n",
        "        if all(df[col].dropna() == df[col].dropna().astype(int)):\n",
        "            df[col] = df[col].astype(int)\n",
        "\n",
        "    bin_cols = []\n",
        "    for col in df.columns:\n",
        "        if df[col].nunique() == 2:\n",
        "            valores = df[col].astype(str).str.lower().unique()\n",
        "            if set(valores) == {'yes', 'no'}:\n",
        "                bin_cols.append(col)\n",
        "\n",
        "    for col in bin_cols:\n",
        "        df[col] = df[col].astype(str).str.strip().str.lower().replace({'yes': 1, 'no': 0}).astype(int)\n",
        "\n",
        "    if bin_cols:\n",
        "        print(\"\\n🔁 Columnas binarias codificadas como 1/0:\")\n",
        "        for col in bin_cols:\n",
        "            print(f\" - {col}\")\n",
        "\n",
        "    renombres = {\n",
        "        'customerID': 'ID',\n",
        "        'Churn': 'cancelo',\n",
        "        'gender': 'genero',\n",
        "        'SeniorCitizen': 'mayor_de_65',\n",
        "        'Partner': 'tiene_pareja',\n",
        "        'Dependents': 'tiene_dependentes',\n",
        "        'tenure': 'meses_de_contrato',\n",
        "        'PhoneService': 'servicio_telefonico',\n",
        "        'MultipleLines': 'lineas_multiples',\n",
        "        'InternetService': 'servicio_internet',\n",
        "        'OnlineSecurity': 'seguridad_en_linea',\n",
        "        'OnlineBackup': 'soporte_en_linea',\n",
        "        'DeviceProtection': 'proteccion_dispositivos',\n",
        "        'TechSupport': 'soporte_tecnico',\n",
        "        'StreamingTV': 'servicio_tv',\n",
        "        'StreamingMovies': 'servicio_peliculas',\n",
        "        'PaperlessBilling': 'facturas_electronicas',\n",
        "        'PaymentMethod': 'metodo_pago',\n",
        "        'Contract': 'tipo_contrato',\n",
        "        'Charges_Monthly': 'gastos_mensuales',\n",
        "        'Charges_Total': 'gastos_totales'\n",
        "    }\n",
        "\n",
        "    df = df.rename(columns=renombres)\n",
        "\n",
        "    print(\"\\n✅ Columnas finales disponibles:\")\n",
        "    for col in df.columns:\n",
        "        print(f\" - {col}\")\n",
        "\n",
        "    # Exportar si el usuario lo desea\n",
        "    if exportar_csv:\n",
        "        df.to_csv('dataset_limpio.csv', index=False)\n",
        "        print(\"\\n📁 Archivo 'dataset_limpio.csv' exportado correctamente.\")\n",
        "\n",
        "    return df\n"
      ],
      "metadata": {
        "id": "GXZCL8G5yRUq"
      },
      "execution_count": 26,
      "outputs": []
    },
    {
      "cell_type": "markdown",
      "source": [
        "#Carga de datos y Análisis#"
      ],
      "metadata": {
        "id": "tCPc2Sbsz7Fz"
      }
    },
    {
      "cell_type": "code",
      "source": [
        "import requests\n",
        "\n",
        "# Cargar datos JSON desde GitHub\n",
        "url = 'https://raw.githubusercontent.com/ingridcristh/challenge2-data-science-LATAM/main/TelecomX_Data.json'\n",
        "data = requests.get(url).json()\n",
        "\n",
        "# Aplicar función de limpieza\n",
        "df_limpio = limpiar_dataset_telecom(data)\n",
        "\n",
        "# Mostrar primeros registros\n",
        "df_limpio.head(10)\n"
      ],
      "metadata": {
        "colab": {
          "base_uri": "https://localhost:8080/",
          "height": 1000
        },
        "id": "kyS6Z3FVu6W9",
        "outputId": "2ed4eb27-031a-4396-e1fc-bbd3713a1731"
      },
      "execution_count": 27,
      "outputs": [
        {
          "output_type": "stream",
          "name": "stdout",
          "text": [
            "\n",
            "🔁 Columnas binarias codificadas como 1/0:\n",
            " - Churn\n",
            " - customer_Partner\n",
            " - customer_Dependents\n",
            " - phone_PhoneService\n",
            " - account_PaperlessBilling\n",
            "\n",
            "✅ Columnas finales disponibles:\n",
            " - ID\n",
            " - cancelo\n",
            " - customer_gender\n",
            " - customer_SeniorCitizen\n",
            " - customer_Partner\n",
            " - customer_Dependents\n",
            " - customer_tenure\n",
            " - phone_PhoneService\n",
            " - phone_MultipleLines\n",
            " - internet_InternetService\n",
            " - internet_OnlineSecurity\n",
            " - internet_OnlineBackup\n",
            " - internet_DeviceProtection\n",
            " - internet_TechSupport\n",
            " - internet_StreamingTV\n",
            " - internet_StreamingMovies\n",
            " - account_Contract\n",
            " - account_PaperlessBilling\n",
            " - account_PaymentMethod\n",
            " - account_Charges_Monthly\n",
            " - account_Charges_Total\n"
          ]
        },
        {
          "output_type": "stream",
          "name": "stderr",
          "text": [
            "/tmp/ipython-input-26-2773459199.py:52: FutureWarning: Downcasting behavior in `replace` is deprecated and will be removed in a future version. To retain the old behavior, explicitly call `result.infer_objects(copy=False)`. To opt-in to the future behavior, set `pd.set_option('future.no_silent_downcasting', True)`\n",
            "  df[col] = df[col].astype(str).str.strip().str.lower().replace({'yes': 1, 'no': 0}).astype(int)\n",
            "/tmp/ipython-input-26-2773459199.py:52: FutureWarning: Downcasting behavior in `replace` is deprecated and will be removed in a future version. To retain the old behavior, explicitly call `result.infer_objects(copy=False)`. To opt-in to the future behavior, set `pd.set_option('future.no_silent_downcasting', True)`\n",
            "  df[col] = df[col].astype(str).str.strip().str.lower().replace({'yes': 1, 'no': 0}).astype(int)\n",
            "/tmp/ipython-input-26-2773459199.py:52: FutureWarning: Downcasting behavior in `replace` is deprecated and will be removed in a future version. To retain the old behavior, explicitly call `result.infer_objects(copy=False)`. To opt-in to the future behavior, set `pd.set_option('future.no_silent_downcasting', True)`\n",
            "  df[col] = df[col].astype(str).str.strip().str.lower().replace({'yes': 1, 'no': 0}).astype(int)\n",
            "/tmp/ipython-input-26-2773459199.py:52: FutureWarning: Downcasting behavior in `replace` is deprecated and will be removed in a future version. To retain the old behavior, explicitly call `result.infer_objects(copy=False)`. To opt-in to the future behavior, set `pd.set_option('future.no_silent_downcasting', True)`\n",
            "  df[col] = df[col].astype(str).str.strip().str.lower().replace({'yes': 1, 'no': 0}).astype(int)\n",
            "/tmp/ipython-input-26-2773459199.py:52: FutureWarning: Downcasting behavior in `replace` is deprecated and will be removed in a future version. To retain the old behavior, explicitly call `result.infer_objects(copy=False)`. To opt-in to the future behavior, set `pd.set_option('future.no_silent_downcasting', True)`\n",
            "  df[col] = df[col].astype(str).str.strip().str.lower().replace({'yes': 1, 'no': 0}).astype(int)\n"
          ]
        },
        {
          "output_type": "execute_result",
          "data": {
            "text/plain": [
              "           ID  cancelo customer_gender  customer_SeniorCitizen  \\\n",
              "0  0002-ORFBO        0          Female                       0   \n",
              "1  0003-MKNFE        0            Male                       0   \n",
              "2  0004-TLHLJ        1            Male                       0   \n",
              "3  0011-IGKFF        1            Male                       1   \n",
              "4  0013-EXCHZ        1          Female                       1   \n",
              "5  0013-MHZWF        0          Female                       0   \n",
              "6  0013-SMEOE        0          Female                       1   \n",
              "7  0014-BMAQU        0            Male                       0   \n",
              "8  0015-UOCOJ        0          Female                       1   \n",
              "9  0016-QLJIS        0          Female                       0   \n",
              "\n",
              "   customer_Partner  customer_Dependents  customer_tenure  phone_PhoneService  \\\n",
              "0                 1                    1                9                   1   \n",
              "1                 0                    0                9                   1   \n",
              "2                 0                    0                4                   1   \n",
              "3                 1                    0               13                   1   \n",
              "4                 1                    0                3                   1   \n",
              "5                 0                    1                9                   1   \n",
              "6                 1                    0               71                   1   \n",
              "7                 1                    0               63                   1   \n",
              "8                 0                    0                7                   1   \n",
              "9                 1                    1               65                   1   \n",
              "\n",
              "  phone_MultipleLines internet_InternetService  ... internet_OnlineBackup  \\\n",
              "0                  No                      DSL  ...                   Yes   \n",
              "1                 Yes                      DSL  ...                    No   \n",
              "2                  No              Fiber optic  ...                    No   \n",
              "3                  No              Fiber optic  ...                   Yes   \n",
              "4                  No              Fiber optic  ...                    No   \n",
              "5                  No                      DSL  ...                    No   \n",
              "6                  No              Fiber optic  ...                   Yes   \n",
              "7                 Yes              Fiber optic  ...                    No   \n",
              "8                  No                      DSL  ...                    No   \n",
              "9                 Yes                      DSL  ...                   Yes   \n",
              "\n",
              "  internet_DeviceProtection internet_TechSupport internet_StreamingTV  \\\n",
              "0                        No                  Yes                  Yes   \n",
              "1                        No                   No                   No   \n",
              "2                       Yes                   No                   No   \n",
              "3                       Yes                   No                  Yes   \n",
              "4                        No                  Yes                  Yes   \n",
              "5                        No                  Yes                  Yes   \n",
              "6                       Yes                  Yes                  Yes   \n",
              "7                        No                  Yes                   No   \n",
              "8                        No                   No                   No   \n",
              "9                       Yes                  Yes                  Yes   \n",
              "\n",
              "  internet_StreamingMovies account_Contract account_PaperlessBilling  \\\n",
              "0                       No         One year                        1   \n",
              "1                      Yes   Month-to-month                        0   \n",
              "2                       No   Month-to-month                        1   \n",
              "3                      Yes   Month-to-month                        1   \n",
              "4                       No   Month-to-month                        1   \n",
              "5                      Yes   Month-to-month                        1   \n",
              "6                      Yes         Two year                        1   \n",
              "7                       No         Two year                        1   \n",
              "8                       No   Month-to-month                        1   \n",
              "9                      Yes         Two year                        1   \n",
              "\n",
              "       account_PaymentMethod account_Charges_Monthly  account_Charges_Total  \n",
              "0               Mailed check                   65.60                 593.30  \n",
              "1               Mailed check                   59.90                 542.40  \n",
              "2           Electronic check                   73.90                 280.85  \n",
              "3           Electronic check                   98.00                1237.85  \n",
              "4               Mailed check                   83.90                 267.40  \n",
              "5    Credit card (automatic)                   69.40                 571.45  \n",
              "6  Bank transfer (automatic)                  109.70                7904.25  \n",
              "7    Credit card (automatic)                   84.65                5377.80  \n",
              "8           Electronic check                   48.20                 340.35  \n",
              "9               Mailed check                   90.45                5957.90  \n",
              "\n",
              "[10 rows x 21 columns]"
            ],
            "text/html": [
              "\n",
              "  <div id=\"df-b39821c4-4423-4949-b797-46ab03bcfe9e\" class=\"colab-df-container\">\n",
              "    <div>\n",
              "<style scoped>\n",
              "    .dataframe tbody tr th:only-of-type {\n",
              "        vertical-align: middle;\n",
              "    }\n",
              "\n",
              "    .dataframe tbody tr th {\n",
              "        vertical-align: top;\n",
              "    }\n",
              "\n",
              "    .dataframe thead th {\n",
              "        text-align: right;\n",
              "    }\n",
              "</style>\n",
              "<table border=\"1\" class=\"dataframe\">\n",
              "  <thead>\n",
              "    <tr style=\"text-align: right;\">\n",
              "      <th></th>\n",
              "      <th>ID</th>\n",
              "      <th>cancelo</th>\n",
              "      <th>customer_gender</th>\n",
              "      <th>customer_SeniorCitizen</th>\n",
              "      <th>customer_Partner</th>\n",
              "      <th>customer_Dependents</th>\n",
              "      <th>customer_tenure</th>\n",
              "      <th>phone_PhoneService</th>\n",
              "      <th>phone_MultipleLines</th>\n",
              "      <th>internet_InternetService</th>\n",
              "      <th>...</th>\n",
              "      <th>internet_OnlineBackup</th>\n",
              "      <th>internet_DeviceProtection</th>\n",
              "      <th>internet_TechSupport</th>\n",
              "      <th>internet_StreamingTV</th>\n",
              "      <th>internet_StreamingMovies</th>\n",
              "      <th>account_Contract</th>\n",
              "      <th>account_PaperlessBilling</th>\n",
              "      <th>account_PaymentMethod</th>\n",
              "      <th>account_Charges_Monthly</th>\n",
              "      <th>account_Charges_Total</th>\n",
              "    </tr>\n",
              "  </thead>\n",
              "  <tbody>\n",
              "    <tr>\n",
              "      <th>0</th>\n",
              "      <td>0002-ORFBO</td>\n",
              "      <td>0</td>\n",
              "      <td>Female</td>\n",
              "      <td>0</td>\n",
              "      <td>1</td>\n",
              "      <td>1</td>\n",
              "      <td>9</td>\n",
              "      <td>1</td>\n",
              "      <td>No</td>\n",
              "      <td>DSL</td>\n",
              "      <td>...</td>\n",
              "      <td>Yes</td>\n",
              "      <td>No</td>\n",
              "      <td>Yes</td>\n",
              "      <td>Yes</td>\n",
              "      <td>No</td>\n",
              "      <td>One year</td>\n",
              "      <td>1</td>\n",
              "      <td>Mailed check</td>\n",
              "      <td>65.60</td>\n",
              "      <td>593.30</td>\n",
              "    </tr>\n",
              "    <tr>\n",
              "      <th>1</th>\n",
              "      <td>0003-MKNFE</td>\n",
              "      <td>0</td>\n",
              "      <td>Male</td>\n",
              "      <td>0</td>\n",
              "      <td>0</td>\n",
              "      <td>0</td>\n",
              "      <td>9</td>\n",
              "      <td>1</td>\n",
              "      <td>Yes</td>\n",
              "      <td>DSL</td>\n",
              "      <td>...</td>\n",
              "      <td>No</td>\n",
              "      <td>No</td>\n",
              "      <td>No</td>\n",
              "      <td>No</td>\n",
              "      <td>Yes</td>\n",
              "      <td>Month-to-month</td>\n",
              "      <td>0</td>\n",
              "      <td>Mailed check</td>\n",
              "      <td>59.90</td>\n",
              "      <td>542.40</td>\n",
              "    </tr>\n",
              "    <tr>\n",
              "      <th>2</th>\n",
              "      <td>0004-TLHLJ</td>\n",
              "      <td>1</td>\n",
              "      <td>Male</td>\n",
              "      <td>0</td>\n",
              "      <td>0</td>\n",
              "      <td>0</td>\n",
              "      <td>4</td>\n",
              "      <td>1</td>\n",
              "      <td>No</td>\n",
              "      <td>Fiber optic</td>\n",
              "      <td>...</td>\n",
              "      <td>No</td>\n",
              "      <td>Yes</td>\n",
              "      <td>No</td>\n",
              "      <td>No</td>\n",
              "      <td>No</td>\n",
              "      <td>Month-to-month</td>\n",
              "      <td>1</td>\n",
              "      <td>Electronic check</td>\n",
              "      <td>73.90</td>\n",
              "      <td>280.85</td>\n",
              "    </tr>\n",
              "    <tr>\n",
              "      <th>3</th>\n",
              "      <td>0011-IGKFF</td>\n",
              "      <td>1</td>\n",
              "      <td>Male</td>\n",
              "      <td>1</td>\n",
              "      <td>1</td>\n",
              "      <td>0</td>\n",
              "      <td>13</td>\n",
              "      <td>1</td>\n",
              "      <td>No</td>\n",
              "      <td>Fiber optic</td>\n",
              "      <td>...</td>\n",
              "      <td>Yes</td>\n",
              "      <td>Yes</td>\n",
              "      <td>No</td>\n",
              "      <td>Yes</td>\n",
              "      <td>Yes</td>\n",
              "      <td>Month-to-month</td>\n",
              "      <td>1</td>\n",
              "      <td>Electronic check</td>\n",
              "      <td>98.00</td>\n",
              "      <td>1237.85</td>\n",
              "    </tr>\n",
              "    <tr>\n",
              "      <th>4</th>\n",
              "      <td>0013-EXCHZ</td>\n",
              "      <td>1</td>\n",
              "      <td>Female</td>\n",
              "      <td>1</td>\n",
              "      <td>1</td>\n",
              "      <td>0</td>\n",
              "      <td>3</td>\n",
              "      <td>1</td>\n",
              "      <td>No</td>\n",
              "      <td>Fiber optic</td>\n",
              "      <td>...</td>\n",
              "      <td>No</td>\n",
              "      <td>No</td>\n",
              "      <td>Yes</td>\n",
              "      <td>Yes</td>\n",
              "      <td>No</td>\n",
              "      <td>Month-to-month</td>\n",
              "      <td>1</td>\n",
              "      <td>Mailed check</td>\n",
              "      <td>83.90</td>\n",
              "      <td>267.40</td>\n",
              "    </tr>\n",
              "    <tr>\n",
              "      <th>5</th>\n",
              "      <td>0013-MHZWF</td>\n",
              "      <td>0</td>\n",
              "      <td>Female</td>\n",
              "      <td>0</td>\n",
              "      <td>0</td>\n",
              "      <td>1</td>\n",
              "      <td>9</td>\n",
              "      <td>1</td>\n",
              "      <td>No</td>\n",
              "      <td>DSL</td>\n",
              "      <td>...</td>\n",
              "      <td>No</td>\n",
              "      <td>No</td>\n",
              "      <td>Yes</td>\n",
              "      <td>Yes</td>\n",
              "      <td>Yes</td>\n",
              "      <td>Month-to-month</td>\n",
              "      <td>1</td>\n",
              "      <td>Credit card (automatic)</td>\n",
              "      <td>69.40</td>\n",
              "      <td>571.45</td>\n",
              "    </tr>\n",
              "    <tr>\n",
              "      <th>6</th>\n",
              "      <td>0013-SMEOE</td>\n",
              "      <td>0</td>\n",
              "      <td>Female</td>\n",
              "      <td>1</td>\n",
              "      <td>1</td>\n",
              "      <td>0</td>\n",
              "      <td>71</td>\n",
              "      <td>1</td>\n",
              "      <td>No</td>\n",
              "      <td>Fiber optic</td>\n",
              "      <td>...</td>\n",
              "      <td>Yes</td>\n",
              "      <td>Yes</td>\n",
              "      <td>Yes</td>\n",
              "      <td>Yes</td>\n",
              "      <td>Yes</td>\n",
              "      <td>Two year</td>\n",
              "      <td>1</td>\n",
              "      <td>Bank transfer (automatic)</td>\n",
              "      <td>109.70</td>\n",
              "      <td>7904.25</td>\n",
              "    </tr>\n",
              "    <tr>\n",
              "      <th>7</th>\n",
              "      <td>0014-BMAQU</td>\n",
              "      <td>0</td>\n",
              "      <td>Male</td>\n",
              "      <td>0</td>\n",
              "      <td>1</td>\n",
              "      <td>0</td>\n",
              "      <td>63</td>\n",
              "      <td>1</td>\n",
              "      <td>Yes</td>\n",
              "      <td>Fiber optic</td>\n",
              "      <td>...</td>\n",
              "      <td>No</td>\n",
              "      <td>No</td>\n",
              "      <td>Yes</td>\n",
              "      <td>No</td>\n",
              "      <td>No</td>\n",
              "      <td>Two year</td>\n",
              "      <td>1</td>\n",
              "      <td>Credit card (automatic)</td>\n",
              "      <td>84.65</td>\n",
              "      <td>5377.80</td>\n",
              "    </tr>\n",
              "    <tr>\n",
              "      <th>8</th>\n",
              "      <td>0015-UOCOJ</td>\n",
              "      <td>0</td>\n",
              "      <td>Female</td>\n",
              "      <td>1</td>\n",
              "      <td>0</td>\n",
              "      <td>0</td>\n",
              "      <td>7</td>\n",
              "      <td>1</td>\n",
              "      <td>No</td>\n",
              "      <td>DSL</td>\n",
              "      <td>...</td>\n",
              "      <td>No</td>\n",
              "      <td>No</td>\n",
              "      <td>No</td>\n",
              "      <td>No</td>\n",
              "      <td>No</td>\n",
              "      <td>Month-to-month</td>\n",
              "      <td>1</td>\n",
              "      <td>Electronic check</td>\n",
              "      <td>48.20</td>\n",
              "      <td>340.35</td>\n",
              "    </tr>\n",
              "    <tr>\n",
              "      <th>9</th>\n",
              "      <td>0016-QLJIS</td>\n",
              "      <td>0</td>\n",
              "      <td>Female</td>\n",
              "      <td>0</td>\n",
              "      <td>1</td>\n",
              "      <td>1</td>\n",
              "      <td>65</td>\n",
              "      <td>1</td>\n",
              "      <td>Yes</td>\n",
              "      <td>DSL</td>\n",
              "      <td>...</td>\n",
              "      <td>Yes</td>\n",
              "      <td>Yes</td>\n",
              "      <td>Yes</td>\n",
              "      <td>Yes</td>\n",
              "      <td>Yes</td>\n",
              "      <td>Two year</td>\n",
              "      <td>1</td>\n",
              "      <td>Mailed check</td>\n",
              "      <td>90.45</td>\n",
              "      <td>5957.90</td>\n",
              "    </tr>\n",
              "  </tbody>\n",
              "</table>\n",
              "<p>10 rows × 21 columns</p>\n",
              "</div>\n",
              "    <div class=\"colab-df-buttons\">\n",
              "\n",
              "  <div class=\"colab-df-container\">\n",
              "    <button class=\"colab-df-convert\" onclick=\"convertToInteractive('df-b39821c4-4423-4949-b797-46ab03bcfe9e')\"\n",
              "            title=\"Convert this dataframe to an interactive table.\"\n",
              "            style=\"display:none;\">\n",
              "\n",
              "  <svg xmlns=\"http://www.w3.org/2000/svg\" height=\"24px\" viewBox=\"0 -960 960 960\">\n",
              "    <path d=\"M120-120v-720h720v720H120Zm60-500h600v-160H180v160Zm220 220h160v-160H400v160Zm0 220h160v-160H400v160ZM180-400h160v-160H180v160Zm440 0h160v-160H620v160ZM180-180h160v-160H180v160Zm440 0h160v-160H620v160Z\"/>\n",
              "  </svg>\n",
              "    </button>\n",
              "\n",
              "  <style>\n",
              "    .colab-df-container {\n",
              "      display:flex;\n",
              "      gap: 12px;\n",
              "    }\n",
              "\n",
              "    .colab-df-convert {\n",
              "      background-color: #E8F0FE;\n",
              "      border: none;\n",
              "      border-radius: 50%;\n",
              "      cursor: pointer;\n",
              "      display: none;\n",
              "      fill: #1967D2;\n",
              "      height: 32px;\n",
              "      padding: 0 0 0 0;\n",
              "      width: 32px;\n",
              "    }\n",
              "\n",
              "    .colab-df-convert:hover {\n",
              "      background-color: #E2EBFA;\n",
              "      box-shadow: 0px 1px 2px rgba(60, 64, 67, 0.3), 0px 1px 3px 1px rgba(60, 64, 67, 0.15);\n",
              "      fill: #174EA6;\n",
              "    }\n",
              "\n",
              "    .colab-df-buttons div {\n",
              "      margin-bottom: 4px;\n",
              "    }\n",
              "\n",
              "    [theme=dark] .colab-df-convert {\n",
              "      background-color: #3B4455;\n",
              "      fill: #D2E3FC;\n",
              "    }\n",
              "\n",
              "    [theme=dark] .colab-df-convert:hover {\n",
              "      background-color: #434B5C;\n",
              "      box-shadow: 0px 1px 3px 1px rgba(0, 0, 0, 0.15);\n",
              "      filter: drop-shadow(0px 1px 2px rgba(0, 0, 0, 0.3));\n",
              "      fill: #FFFFFF;\n",
              "    }\n",
              "  </style>\n",
              "\n",
              "    <script>\n",
              "      const buttonEl =\n",
              "        document.querySelector('#df-b39821c4-4423-4949-b797-46ab03bcfe9e button.colab-df-convert');\n",
              "      buttonEl.style.display =\n",
              "        google.colab.kernel.accessAllowed ? 'block' : 'none';\n",
              "\n",
              "      async function convertToInteractive(key) {\n",
              "        const element = document.querySelector('#df-b39821c4-4423-4949-b797-46ab03bcfe9e');\n",
              "        const dataTable =\n",
              "          await google.colab.kernel.invokeFunction('convertToInteractive',\n",
              "                                                    [key], {});\n",
              "        if (!dataTable) return;\n",
              "\n",
              "        const docLinkHtml = 'Like what you see? Visit the ' +\n",
              "          '<a target=\"_blank\" href=https://colab.research.google.com/notebooks/data_table.ipynb>data table notebook</a>'\n",
              "          + ' to learn more about interactive tables.';\n",
              "        element.innerHTML = '';\n",
              "        dataTable['output_type'] = 'display_data';\n",
              "        await google.colab.output.renderOutput(dataTable, element);\n",
              "        const docLink = document.createElement('div');\n",
              "        docLink.innerHTML = docLinkHtml;\n",
              "        element.appendChild(docLink);\n",
              "      }\n",
              "    </script>\n",
              "  </div>\n",
              "\n",
              "\n",
              "    <div id=\"df-27fdf9e8-9b4b-49d9-ab5f-1c5a27e10813\">\n",
              "      <button class=\"colab-df-quickchart\" onclick=\"quickchart('df-27fdf9e8-9b4b-49d9-ab5f-1c5a27e10813')\"\n",
              "                title=\"Suggest charts\"\n",
              "                style=\"display:none;\">\n",
              "\n",
              "<svg xmlns=\"http://www.w3.org/2000/svg\" height=\"24px\"viewBox=\"0 0 24 24\"\n",
              "     width=\"24px\">\n",
              "    <g>\n",
              "        <path d=\"M19 3H5c-1.1 0-2 .9-2 2v14c0 1.1.9 2 2 2h14c1.1 0 2-.9 2-2V5c0-1.1-.9-2-2-2zM9 17H7v-7h2v7zm4 0h-2V7h2v10zm4 0h-2v-4h2v4z\"/>\n",
              "    </g>\n",
              "</svg>\n",
              "      </button>\n",
              "\n",
              "<style>\n",
              "  .colab-df-quickchart {\n",
              "      --bg-color: #E8F0FE;\n",
              "      --fill-color: #1967D2;\n",
              "      --hover-bg-color: #E2EBFA;\n",
              "      --hover-fill-color: #174EA6;\n",
              "      --disabled-fill-color: #AAA;\n",
              "      --disabled-bg-color: #DDD;\n",
              "  }\n",
              "\n",
              "  [theme=dark] .colab-df-quickchart {\n",
              "      --bg-color: #3B4455;\n",
              "      --fill-color: #D2E3FC;\n",
              "      --hover-bg-color: #434B5C;\n",
              "      --hover-fill-color: #FFFFFF;\n",
              "      --disabled-bg-color: #3B4455;\n",
              "      --disabled-fill-color: #666;\n",
              "  }\n",
              "\n",
              "  .colab-df-quickchart {\n",
              "    background-color: var(--bg-color);\n",
              "    border: none;\n",
              "    border-radius: 50%;\n",
              "    cursor: pointer;\n",
              "    display: none;\n",
              "    fill: var(--fill-color);\n",
              "    height: 32px;\n",
              "    padding: 0;\n",
              "    width: 32px;\n",
              "  }\n",
              "\n",
              "  .colab-df-quickchart:hover {\n",
              "    background-color: var(--hover-bg-color);\n",
              "    box-shadow: 0 1px 2px rgba(60, 64, 67, 0.3), 0 1px 3px 1px rgba(60, 64, 67, 0.15);\n",
              "    fill: var(--button-hover-fill-color);\n",
              "  }\n",
              "\n",
              "  .colab-df-quickchart-complete:disabled,\n",
              "  .colab-df-quickchart-complete:disabled:hover {\n",
              "    background-color: var(--disabled-bg-color);\n",
              "    fill: var(--disabled-fill-color);\n",
              "    box-shadow: none;\n",
              "  }\n",
              "\n",
              "  .colab-df-spinner {\n",
              "    border: 2px solid var(--fill-color);\n",
              "    border-color: transparent;\n",
              "    border-bottom-color: var(--fill-color);\n",
              "    animation:\n",
              "      spin 1s steps(1) infinite;\n",
              "  }\n",
              "\n",
              "  @keyframes spin {\n",
              "    0% {\n",
              "      border-color: transparent;\n",
              "      border-bottom-color: var(--fill-color);\n",
              "      border-left-color: var(--fill-color);\n",
              "    }\n",
              "    20% {\n",
              "      border-color: transparent;\n",
              "      border-left-color: var(--fill-color);\n",
              "      border-top-color: var(--fill-color);\n",
              "    }\n",
              "    30% {\n",
              "      border-color: transparent;\n",
              "      border-left-color: var(--fill-color);\n",
              "      border-top-color: var(--fill-color);\n",
              "      border-right-color: var(--fill-color);\n",
              "    }\n",
              "    40% {\n",
              "      border-color: transparent;\n",
              "      border-right-color: var(--fill-color);\n",
              "      border-top-color: var(--fill-color);\n",
              "    }\n",
              "    60% {\n",
              "      border-color: transparent;\n",
              "      border-right-color: var(--fill-color);\n",
              "    }\n",
              "    80% {\n",
              "      border-color: transparent;\n",
              "      border-right-color: var(--fill-color);\n",
              "      border-bottom-color: var(--fill-color);\n",
              "    }\n",
              "    90% {\n",
              "      border-color: transparent;\n",
              "      border-bottom-color: var(--fill-color);\n",
              "    }\n",
              "  }\n",
              "</style>\n",
              "\n",
              "      <script>\n",
              "        async function quickchart(key) {\n",
              "          const quickchartButtonEl =\n",
              "            document.querySelector('#' + key + ' button');\n",
              "          quickchartButtonEl.disabled = true;  // To prevent multiple clicks.\n",
              "          quickchartButtonEl.classList.add('colab-df-spinner');\n",
              "          try {\n",
              "            const charts = await google.colab.kernel.invokeFunction(\n",
              "                'suggestCharts', [key], {});\n",
              "          } catch (error) {\n",
              "            console.error('Error during call to suggestCharts:', error);\n",
              "          }\n",
              "          quickchartButtonEl.classList.remove('colab-df-spinner');\n",
              "          quickchartButtonEl.classList.add('colab-df-quickchart-complete');\n",
              "        }\n",
              "        (() => {\n",
              "          let quickchartButtonEl =\n",
              "            document.querySelector('#df-27fdf9e8-9b4b-49d9-ab5f-1c5a27e10813 button');\n",
              "          quickchartButtonEl.style.display =\n",
              "            google.colab.kernel.accessAllowed ? 'block' : 'none';\n",
              "        })();\n",
              "      </script>\n",
              "    </div>\n",
              "\n",
              "    </div>\n",
              "  </div>\n"
            ],
            "application/vnd.google.colaboratory.intrinsic+json": {
              "type": "dataframe",
              "variable_name": "df_limpio"
            }
          },
          "metadata": {},
          "execution_count": 27
        }
      ]
    },
    {
      "cell_type": "code",
      "source": [
        "import requests\n",
        "\n",
        "url = 'https://raw.githubusercontent.com/ingridcristh/challenge2-data-science-LATAM/main/TelecomX_Data.json'\n",
        "data = requests.get(url).json()\n",
        "\n",
        "df_limpio = limpiar_dataset_telecom(data, exportar_csv=True)\n"
      ],
      "metadata": {
        "colab": {
          "base_uri": "https://localhost:8080/"
        },
        "id": "_CJR8OZtvdiU",
        "outputId": "f390a0c5-c30b-4440-c98f-07dfd1e14cfd"
      },
      "execution_count": 28,
      "outputs": [
        {
          "output_type": "stream",
          "name": "stdout",
          "text": [
            "\n",
            "🔁 Columnas binarias codificadas como 1/0:\n",
            " - Churn\n",
            " - customer_Partner\n",
            " - customer_Dependents\n",
            " - phone_PhoneService\n",
            " - account_PaperlessBilling\n",
            "\n",
            "✅ Columnas finales disponibles:\n",
            " - ID\n",
            " - cancelo\n",
            " - customer_gender\n",
            " - customer_SeniorCitizen\n",
            " - customer_Partner\n",
            " - customer_Dependents\n",
            " - customer_tenure\n",
            " - phone_PhoneService\n",
            " - phone_MultipleLines\n",
            " - internet_InternetService\n",
            " - internet_OnlineSecurity\n",
            " - internet_OnlineBackup\n",
            " - internet_DeviceProtection\n",
            " - internet_TechSupport\n",
            " - internet_StreamingTV\n",
            " - internet_StreamingMovies\n",
            " - account_Contract\n",
            " - account_PaperlessBilling\n",
            " - account_PaymentMethod\n",
            " - account_Charges_Monthly\n",
            " - account_Charges_Total\n",
            "\n",
            "📁 Archivo 'dataset_limpio.csv' exportado correctamente.\n"
          ]
        },
        {
          "output_type": "stream",
          "name": "stderr",
          "text": [
            "/tmp/ipython-input-26-2773459199.py:52: FutureWarning: Downcasting behavior in `replace` is deprecated and will be removed in a future version. To retain the old behavior, explicitly call `result.infer_objects(copy=False)`. To opt-in to the future behavior, set `pd.set_option('future.no_silent_downcasting', True)`\n",
            "  df[col] = df[col].astype(str).str.strip().str.lower().replace({'yes': 1, 'no': 0}).astype(int)\n",
            "/tmp/ipython-input-26-2773459199.py:52: FutureWarning: Downcasting behavior in `replace` is deprecated and will be removed in a future version. To retain the old behavior, explicitly call `result.infer_objects(copy=False)`. To opt-in to the future behavior, set `pd.set_option('future.no_silent_downcasting', True)`\n",
            "  df[col] = df[col].astype(str).str.strip().str.lower().replace({'yes': 1, 'no': 0}).astype(int)\n",
            "/tmp/ipython-input-26-2773459199.py:52: FutureWarning: Downcasting behavior in `replace` is deprecated and will be removed in a future version. To retain the old behavior, explicitly call `result.infer_objects(copy=False)`. To opt-in to the future behavior, set `pd.set_option('future.no_silent_downcasting', True)`\n",
            "  df[col] = df[col].astype(str).str.strip().str.lower().replace({'yes': 1, 'no': 0}).astype(int)\n",
            "/tmp/ipython-input-26-2773459199.py:52: FutureWarning: Downcasting behavior in `replace` is deprecated and will be removed in a future version. To retain the old behavior, explicitly call `result.infer_objects(copy=False)`. To opt-in to the future behavior, set `pd.set_option('future.no_silent_downcasting', True)`\n",
            "  df[col] = df[col].astype(str).str.strip().str.lower().replace({'yes': 1, 'no': 0}).astype(int)\n",
            "/tmp/ipython-input-26-2773459199.py:52: FutureWarning: Downcasting behavior in `replace` is deprecated and will be removed in a future version. To retain the old behavior, explicitly call `result.infer_objects(copy=False)`. To opt-in to the future behavior, set `pd.set_option('future.no_silent_downcasting', True)`\n",
            "  df[col] = df[col].astype(str).str.strip().str.lower().replace({'yes': 1, 'no': 0}).astype(int)\n"
          ]
        }
      ]
    },
    {
      "cell_type": "code",
      "source": [
        "from google.colab import files\n",
        "files.download(\"dataset_limpio.csv\")"
      ],
      "metadata": {
        "colab": {
          "base_uri": "https://localhost:8080/",
          "height": 17
        },
        "id": "L-5n7qEuyquK",
        "outputId": "53ce793a-76ef-4b6b-f58a-c406f72f7c56"
      },
      "execution_count": 29,
      "outputs": [
        {
          "output_type": "display_data",
          "data": {
            "text/plain": [
              "<IPython.core.display.Javascript object>"
            ],
            "application/javascript": [
              "\n",
              "    async function download(id, filename, size) {\n",
              "      if (!google.colab.kernel.accessAllowed) {\n",
              "        return;\n",
              "      }\n",
              "      const div = document.createElement('div');\n",
              "      const label = document.createElement('label');\n",
              "      label.textContent = `Downloading \"${filename}\": `;\n",
              "      div.appendChild(label);\n",
              "      const progress = document.createElement('progress');\n",
              "      progress.max = size;\n",
              "      div.appendChild(progress);\n",
              "      document.body.appendChild(div);\n",
              "\n",
              "      const buffers = [];\n",
              "      let downloaded = 0;\n",
              "\n",
              "      const channel = await google.colab.kernel.comms.open(id);\n",
              "      // Send a message to notify the kernel that we're ready.\n",
              "      channel.send({})\n",
              "\n",
              "      for await (const message of channel.messages) {\n",
              "        // Send a message to notify the kernel that we're ready.\n",
              "        channel.send({})\n",
              "        if (message.buffers) {\n",
              "          for (const buffer of message.buffers) {\n",
              "            buffers.push(buffer);\n",
              "            downloaded += buffer.byteLength;\n",
              "            progress.value = downloaded;\n",
              "          }\n",
              "        }\n",
              "      }\n",
              "      const blob = new Blob(buffers, {type: 'application/binary'});\n",
              "      const a = document.createElement('a');\n",
              "      a.href = window.URL.createObjectURL(blob);\n",
              "      a.download = filename;\n",
              "      div.appendChild(a);\n",
              "      a.click();\n",
              "      div.remove();\n",
              "    }\n",
              "  "
            ]
          },
          "metadata": {}
        },
        {
          "output_type": "display_data",
          "data": {
            "text/plain": [
              "<IPython.core.display.Javascript object>"
            ],
            "application/javascript": [
              "download(\"download_9438a8f0-8807-4aab-9a83-8ca61b9ae60f\", \"dataset_limpio.csv\", 919104)"
            ]
          },
          "metadata": {}
        }
      ]
    },
    {
      "cell_type": "code",
      "source": [
        "from sklearn.model_selection import train_test_split\n",
        "\n",
        "def preparar_datos_modelo(df, test_size=0.3, random_state=42):\n",
        "    \"\"\"\n",
        "    Prepara los datos para entrenamiento de un modelo:\n",
        "    - Separa X e y\n",
        "    - Realiza división train/test\n",
        "    - Retorna: X_train, X_test, y_train, y_test\n",
        "    \"\"\"\n",
        "\n",
        "    # Validaciones básicas\n",
        "    if 'cancelo' not in df.columns:\n",
        "        raise ValueError(\"La columna 'cancelo' no está en el DataFrame.\")\n",
        "\n",
        "    # Separar X e y\n",
        "    X = df.drop(columns=['ID', 'cancelo'], errors='ignore')\n",
        "    y = df['cancelo']\n",
        "\n",
        "    # División de datos\n",
        "    X_train, X_test, y_train, y_test = train_test_split(\n",
        "        X, y,\n",
        "        test_size=test_size,\n",
        "        random_state=random_state,\n",
        "        stratify=y\n",
        "    )\n",
        "\n",
        "    print(f\"\\n✅ División completada:\")\n",
        "    print(f\" - X_train: {X_train.shape}\")\n",
        "    print(f\" - X_test: {X_test.shape}\")\n",
        "    print(f\" - y_train: {y_train.shape}\")\n",
        "    print(f\" - y_test: {y_test.shape}\")\n",
        "\n",
        "    return X_train, X_test, y_train, y_test\n"
      ],
      "metadata": {
        "id": "_hu5b5o1xuJY"
      },
      "execution_count": 30,
      "outputs": []
    },
    {
      "cell_type": "code",
      "source": [
        "df_limpio = limpiar_dataset_telecom(data, exportar_csv=False)\n",
        "\n",
        "X_train, X_test, y_train, y_test = preparar_datos_modelo(df_limpio)\n"
      ],
      "metadata": {
        "colab": {
          "base_uri": "https://localhost:8080/"
        },
        "id": "sQWY96aOx7VG",
        "outputId": "7315128a-5d12-4682-97d0-f925703dacb8"
      },
      "execution_count": 31,
      "outputs": [
        {
          "output_type": "stream",
          "name": "stdout",
          "text": [
            "\n",
            "🔁 Columnas binarias codificadas como 1/0:\n",
            " - Churn\n",
            " - customer_Partner\n",
            " - customer_Dependents\n",
            " - phone_PhoneService\n",
            " - account_PaperlessBilling\n",
            "\n",
            "✅ Columnas finales disponibles:\n",
            " - ID\n",
            " - cancelo\n",
            " - customer_gender\n",
            " - customer_SeniorCitizen\n",
            " - customer_Partner\n",
            " - customer_Dependents\n",
            " - customer_tenure\n",
            " - phone_PhoneService\n",
            " - phone_MultipleLines\n",
            " - internet_InternetService\n",
            " - internet_OnlineSecurity\n",
            " - internet_OnlineBackup\n",
            " - internet_DeviceProtection\n",
            " - internet_TechSupport\n",
            " - internet_StreamingTV\n",
            " - internet_StreamingMovies\n",
            " - account_Contract\n",
            " - account_PaperlessBilling\n",
            " - account_PaymentMethod\n",
            " - account_Charges_Monthly\n",
            " - account_Charges_Total\n",
            "\n",
            "✅ División completada:\n",
            " - X_train: (4930, 19)\n",
            " - X_test: (2113, 19)\n",
            " - y_train: (4930,)\n",
            " - y_test: (2113,)\n"
          ]
        },
        {
          "output_type": "stream",
          "name": "stderr",
          "text": [
            "/tmp/ipython-input-26-2773459199.py:52: FutureWarning: Downcasting behavior in `replace` is deprecated and will be removed in a future version. To retain the old behavior, explicitly call `result.infer_objects(copy=False)`. To opt-in to the future behavior, set `pd.set_option('future.no_silent_downcasting', True)`\n",
            "  df[col] = df[col].astype(str).str.strip().str.lower().replace({'yes': 1, 'no': 0}).astype(int)\n",
            "/tmp/ipython-input-26-2773459199.py:52: FutureWarning: Downcasting behavior in `replace` is deprecated and will be removed in a future version. To retain the old behavior, explicitly call `result.infer_objects(copy=False)`. To opt-in to the future behavior, set `pd.set_option('future.no_silent_downcasting', True)`\n",
            "  df[col] = df[col].astype(str).str.strip().str.lower().replace({'yes': 1, 'no': 0}).astype(int)\n",
            "/tmp/ipython-input-26-2773459199.py:52: FutureWarning: Downcasting behavior in `replace` is deprecated and will be removed in a future version. To retain the old behavior, explicitly call `result.infer_objects(copy=False)`. To opt-in to the future behavior, set `pd.set_option('future.no_silent_downcasting', True)`\n",
            "  df[col] = df[col].astype(str).str.strip().str.lower().replace({'yes': 1, 'no': 0}).astype(int)\n",
            "/tmp/ipython-input-26-2773459199.py:52: FutureWarning: Downcasting behavior in `replace` is deprecated and will be removed in a future version. To retain the old behavior, explicitly call `result.infer_objects(copy=False)`. To opt-in to the future behavior, set `pd.set_option('future.no_silent_downcasting', True)`\n",
            "  df[col] = df[col].astype(str).str.strip().str.lower().replace({'yes': 1, 'no': 0}).astype(int)\n",
            "/tmp/ipython-input-26-2773459199.py:52: FutureWarning: Downcasting behavior in `replace` is deprecated and will be removed in a future version. To retain the old behavior, explicitly call `result.infer_objects(copy=False)`. To opt-in to the future behavior, set `pd.set_option('future.no_silent_downcasting', True)`\n",
            "  df[col] = df[col].astype(str).str.strip().str.lower().replace({'yes': 1, 'no': 0}).astype(int)\n"
          ]
        }
      ]
    },
    {
      "cell_type": "code",
      "source": [
        "import matplotlib.pyplot as plt\n",
        "import seaborn as sns\n",
        "from sklearn.model_selection import train_test_split\n",
        "from sklearn.tree import DecisionTreeClassifier\n",
        "from sklearn.metrics import (\n",
        "    classification_report, confusion_matrix,\n",
        "    accuracy_score, precision_score, recall_score, f1_score\n",
        ")\n",
        "\n",
        "def entrenar_y_evaluar_modelo(df, test_size=0.3, random_state=42, max_depth=5):\n",
        "    \"\"\"\n",
        "    Prepara los datos, entrena un modelo de árbol de decisión\n",
        "    y muestra métricas de rendimiento.\n",
        "    \"\"\"\n",
        "\n",
        "    # Separar variables\n",
        "    if 'cancelo' not in df.columns:\n",
        "        raise ValueError(\"El DataFrame debe contener la columna 'cancelo' como variable objetivo.\")\n",
        "\n",
        "    X = df.drop(columns=['ID', 'cancelo'], errors='ignore')\n",
        "    y = df['cancelo']\n",
        "\n",
        "    # División\n",
        "    X_train, X_test, y_train, y_test = train_test_split(\n",
        "        X, y, test_size=test_size, random_state=random_state, stratify=y\n",
        "    )\n",
        "\n",
        "    # Modelo\n",
        "    modelo = DecisionTreeClassifier(max_depth=max_depth, random_state=random_state)\n",
        "    modelo.fit(X_train, y_train)\n",
        "\n",
        "    # Predicciones\n",
        "    y_pred = modelo.predict(X_test)\n",
        "\n",
        "    # Métricas\n",
        "    print(\"\\n📊 Métricas de evaluación del modelo:\\n\")\n",
        "    print(f\"Accuracy:  {accuracy_score(y_test, y_pred):.3f}\")\n",
        "    print(f\"Precision: {precision_score(y_test, y_pred):.3f}\")\n",
        "    print(f\"Recall:    {recall_score(y_test, y_pred):.3f}\")\n",
        "    print(f\"F1-score:  {f1_score(y_test, y_pred):.3f}\")\n",
        "\n",
        "    # Clasificación detallada\n",
        "    print(\"\\n📋 Classification report:\\n\")\n",
        "    print(classification_report(y_test, y_pred, target_names=[\"No canceló\", \"Canceló\"]))\n",
        "\n",
        "    # Matriz de confusión\n",
        "    cm = confusion_matrix(y_test, y_pred)\n",
        "    plt.figure(figsize=(4, 3))\n",
        "    sns.heatmap(cm, annot=True, fmt=\"d\", cmap=\"Blues\", xticklabels=[\"No\", \"Sí\"], yticklabels=[\"No\", \"Sí\"])\n",
        "    plt.title(\"🔍 Matriz de Confusión\")\n",
        "    plt.xlabel(\"Predicción\")\n",
        "    plt.ylabel(\"Real\")\n",
        "    plt.show()\n",
        "\n",
        "    # Importancia de variables\n",
        "    importancias = modelo.feature_importances_\n",
        "    nombres = X.columns\n",
        "    top_idx = importancias.argsort()[-10:]  # top 10\n",
        "\n",
        "    plt.figure(figsize=(8, 5))\n",
        "    plt.barh(range(len(top_idx)), importancias[top_idx], align='center')\n",
        "    plt.yticks(range(len(top_idx)), [nombres[i] for i in top_idx])\n",
        "    plt.xlabel(\"Importancia\")\n",
        "    plt.title(\"📌 Top 10 variables más relevantes\")\n",
        "    plt.tight_layout()\n",
        "    plt.show()\n",
        "\n",
        "    return modelo\n"
      ],
      "metadata": {
        "id": "65IjAhLjza53"
      },
      "execution_count": 32,
      "outputs": []
    },
    {
      "cell_type": "markdown",
      "source": [
        "#Columna Cuentas Diarias#"
      ],
      "metadata": {
        "id": "r6T894ba8HQH"
      }
    },
    {
      "cell_type": "code",
      "source": [
        "# Verifica que la columna 'gastos_mensuales' existe\n",
        "if 'account_Charges_Monthly' in df_limpio.columns:\n",
        "    df_limpio['Cuentas_Diarias'] = df_limpio['account_Charges_Monthly'] / 30.44\n",
        "    df_limpio['Cuentas_Diarias'] = df_limpio['Cuentas_Diarias'].round(2)\n",
        "    print(\"✅ Columna 'Cuentas_Diarias' creada exitosamente.\")\n",
        "else:\n",
        "    print(\"❌ La columna 'gastos_mensuales' no existe en el DataFrame.\")\n"
      ],
      "metadata": {
        "colab": {
          "base_uri": "https://localhost:8080/"
        },
        "id": "jtlqvn3izbvm",
        "outputId": "c1b4f72a-37ce-4e1d-d0ed-305911900499"
      },
      "execution_count": 33,
      "outputs": [
        {
          "output_type": "stream",
          "name": "stdout",
          "text": [
            "✅ Columna 'Cuentas_Diarias' creada exitosamente.\n"
          ]
        }
      ]
    },
    {
      "cell_type": "code",
      "source": [
        "df_limpio[['account_Charges_Monthly', 'Cuentas_Diarias']].head()\n"
      ],
      "metadata": {
        "colab": {
          "base_uri": "https://localhost:8080/",
          "height": 206
        },
        "id": "33hlTJg68WPA",
        "outputId": "706cadc8-1be5-4c88-e4dd-e27e9437e7b9"
      },
      "execution_count": 34,
      "outputs": [
        {
          "output_type": "execute_result",
          "data": {
            "text/plain": [
              "   account_Charges_Monthly  Cuentas_Diarias\n",
              "0                     65.6             2.16\n",
              "1                     59.9             1.97\n",
              "2                     73.9             2.43\n",
              "3                     98.0             3.22\n",
              "4                     83.9             2.76"
            ],
            "text/html": [
              "\n",
              "  <div id=\"df-e0fab9db-1e32-46fc-8979-e7a55452fc8d\" class=\"colab-df-container\">\n",
              "    <div>\n",
              "<style scoped>\n",
              "    .dataframe tbody tr th:only-of-type {\n",
              "        vertical-align: middle;\n",
              "    }\n",
              "\n",
              "    .dataframe tbody tr th {\n",
              "        vertical-align: top;\n",
              "    }\n",
              "\n",
              "    .dataframe thead th {\n",
              "        text-align: right;\n",
              "    }\n",
              "</style>\n",
              "<table border=\"1\" class=\"dataframe\">\n",
              "  <thead>\n",
              "    <tr style=\"text-align: right;\">\n",
              "      <th></th>\n",
              "      <th>account_Charges_Monthly</th>\n",
              "      <th>Cuentas_Diarias</th>\n",
              "    </tr>\n",
              "  </thead>\n",
              "  <tbody>\n",
              "    <tr>\n",
              "      <th>0</th>\n",
              "      <td>65.6</td>\n",
              "      <td>2.16</td>\n",
              "    </tr>\n",
              "    <tr>\n",
              "      <th>1</th>\n",
              "      <td>59.9</td>\n",
              "      <td>1.97</td>\n",
              "    </tr>\n",
              "    <tr>\n",
              "      <th>2</th>\n",
              "      <td>73.9</td>\n",
              "      <td>2.43</td>\n",
              "    </tr>\n",
              "    <tr>\n",
              "      <th>3</th>\n",
              "      <td>98.0</td>\n",
              "      <td>3.22</td>\n",
              "    </tr>\n",
              "    <tr>\n",
              "      <th>4</th>\n",
              "      <td>83.9</td>\n",
              "      <td>2.76</td>\n",
              "    </tr>\n",
              "  </tbody>\n",
              "</table>\n",
              "</div>\n",
              "    <div class=\"colab-df-buttons\">\n",
              "\n",
              "  <div class=\"colab-df-container\">\n",
              "    <button class=\"colab-df-convert\" onclick=\"convertToInteractive('df-e0fab9db-1e32-46fc-8979-e7a55452fc8d')\"\n",
              "            title=\"Convert this dataframe to an interactive table.\"\n",
              "            style=\"display:none;\">\n",
              "\n",
              "  <svg xmlns=\"http://www.w3.org/2000/svg\" height=\"24px\" viewBox=\"0 -960 960 960\">\n",
              "    <path d=\"M120-120v-720h720v720H120Zm60-500h600v-160H180v160Zm220 220h160v-160H400v160Zm0 220h160v-160H400v160ZM180-400h160v-160H180v160Zm440 0h160v-160H620v160ZM180-180h160v-160H180v160Zm440 0h160v-160H620v160Z\"/>\n",
              "  </svg>\n",
              "    </button>\n",
              "\n",
              "  <style>\n",
              "    .colab-df-container {\n",
              "      display:flex;\n",
              "      gap: 12px;\n",
              "    }\n",
              "\n",
              "    .colab-df-convert {\n",
              "      background-color: #E8F0FE;\n",
              "      border: none;\n",
              "      border-radius: 50%;\n",
              "      cursor: pointer;\n",
              "      display: none;\n",
              "      fill: #1967D2;\n",
              "      height: 32px;\n",
              "      padding: 0 0 0 0;\n",
              "      width: 32px;\n",
              "    }\n",
              "\n",
              "    .colab-df-convert:hover {\n",
              "      background-color: #E2EBFA;\n",
              "      box-shadow: 0px 1px 2px rgba(60, 64, 67, 0.3), 0px 1px 3px 1px rgba(60, 64, 67, 0.15);\n",
              "      fill: #174EA6;\n",
              "    }\n",
              "\n",
              "    .colab-df-buttons div {\n",
              "      margin-bottom: 4px;\n",
              "    }\n",
              "\n",
              "    [theme=dark] .colab-df-convert {\n",
              "      background-color: #3B4455;\n",
              "      fill: #D2E3FC;\n",
              "    }\n",
              "\n",
              "    [theme=dark] .colab-df-convert:hover {\n",
              "      background-color: #434B5C;\n",
              "      box-shadow: 0px 1px 3px 1px rgba(0, 0, 0, 0.15);\n",
              "      filter: drop-shadow(0px 1px 2px rgba(0, 0, 0, 0.3));\n",
              "      fill: #FFFFFF;\n",
              "    }\n",
              "  </style>\n",
              "\n",
              "    <script>\n",
              "      const buttonEl =\n",
              "        document.querySelector('#df-e0fab9db-1e32-46fc-8979-e7a55452fc8d button.colab-df-convert');\n",
              "      buttonEl.style.display =\n",
              "        google.colab.kernel.accessAllowed ? 'block' : 'none';\n",
              "\n",
              "      async function convertToInteractive(key) {\n",
              "        const element = document.querySelector('#df-e0fab9db-1e32-46fc-8979-e7a55452fc8d');\n",
              "        const dataTable =\n",
              "          await google.colab.kernel.invokeFunction('convertToInteractive',\n",
              "                                                    [key], {});\n",
              "        if (!dataTable) return;\n",
              "\n",
              "        const docLinkHtml = 'Like what you see? Visit the ' +\n",
              "          '<a target=\"_blank\" href=https://colab.research.google.com/notebooks/data_table.ipynb>data table notebook</a>'\n",
              "          + ' to learn more about interactive tables.';\n",
              "        element.innerHTML = '';\n",
              "        dataTable['output_type'] = 'display_data';\n",
              "        await google.colab.output.renderOutput(dataTable, element);\n",
              "        const docLink = document.createElement('div');\n",
              "        docLink.innerHTML = docLinkHtml;\n",
              "        element.appendChild(docLink);\n",
              "      }\n",
              "    </script>\n",
              "  </div>\n",
              "\n",
              "\n",
              "    <div id=\"df-ad65835b-44b5-4d08-8c81-8839e6f27b90\">\n",
              "      <button class=\"colab-df-quickchart\" onclick=\"quickchart('df-ad65835b-44b5-4d08-8c81-8839e6f27b90')\"\n",
              "                title=\"Suggest charts\"\n",
              "                style=\"display:none;\">\n",
              "\n",
              "<svg xmlns=\"http://www.w3.org/2000/svg\" height=\"24px\"viewBox=\"0 0 24 24\"\n",
              "     width=\"24px\">\n",
              "    <g>\n",
              "        <path d=\"M19 3H5c-1.1 0-2 .9-2 2v14c0 1.1.9 2 2 2h14c1.1 0 2-.9 2-2V5c0-1.1-.9-2-2-2zM9 17H7v-7h2v7zm4 0h-2V7h2v10zm4 0h-2v-4h2v4z\"/>\n",
              "    </g>\n",
              "</svg>\n",
              "      </button>\n",
              "\n",
              "<style>\n",
              "  .colab-df-quickchart {\n",
              "      --bg-color: #E8F0FE;\n",
              "      --fill-color: #1967D2;\n",
              "      --hover-bg-color: #E2EBFA;\n",
              "      --hover-fill-color: #174EA6;\n",
              "      --disabled-fill-color: #AAA;\n",
              "      --disabled-bg-color: #DDD;\n",
              "  }\n",
              "\n",
              "  [theme=dark] .colab-df-quickchart {\n",
              "      --bg-color: #3B4455;\n",
              "      --fill-color: #D2E3FC;\n",
              "      --hover-bg-color: #434B5C;\n",
              "      --hover-fill-color: #FFFFFF;\n",
              "      --disabled-bg-color: #3B4455;\n",
              "      --disabled-fill-color: #666;\n",
              "  }\n",
              "\n",
              "  .colab-df-quickchart {\n",
              "    background-color: var(--bg-color);\n",
              "    border: none;\n",
              "    border-radius: 50%;\n",
              "    cursor: pointer;\n",
              "    display: none;\n",
              "    fill: var(--fill-color);\n",
              "    height: 32px;\n",
              "    padding: 0;\n",
              "    width: 32px;\n",
              "  }\n",
              "\n",
              "  .colab-df-quickchart:hover {\n",
              "    background-color: var(--hover-bg-color);\n",
              "    box-shadow: 0 1px 2px rgba(60, 64, 67, 0.3), 0 1px 3px 1px rgba(60, 64, 67, 0.15);\n",
              "    fill: var(--button-hover-fill-color);\n",
              "  }\n",
              "\n",
              "  .colab-df-quickchart-complete:disabled,\n",
              "  .colab-df-quickchart-complete:disabled:hover {\n",
              "    background-color: var(--disabled-bg-color);\n",
              "    fill: var(--disabled-fill-color);\n",
              "    box-shadow: none;\n",
              "  }\n",
              "\n",
              "  .colab-df-spinner {\n",
              "    border: 2px solid var(--fill-color);\n",
              "    border-color: transparent;\n",
              "    border-bottom-color: var(--fill-color);\n",
              "    animation:\n",
              "      spin 1s steps(1) infinite;\n",
              "  }\n",
              "\n",
              "  @keyframes spin {\n",
              "    0% {\n",
              "      border-color: transparent;\n",
              "      border-bottom-color: var(--fill-color);\n",
              "      border-left-color: var(--fill-color);\n",
              "    }\n",
              "    20% {\n",
              "      border-color: transparent;\n",
              "      border-left-color: var(--fill-color);\n",
              "      border-top-color: var(--fill-color);\n",
              "    }\n",
              "    30% {\n",
              "      border-color: transparent;\n",
              "      border-left-color: var(--fill-color);\n",
              "      border-top-color: var(--fill-color);\n",
              "      border-right-color: var(--fill-color);\n",
              "    }\n",
              "    40% {\n",
              "      border-color: transparent;\n",
              "      border-right-color: var(--fill-color);\n",
              "      border-top-color: var(--fill-color);\n",
              "    }\n",
              "    60% {\n",
              "      border-color: transparent;\n",
              "      border-right-color: var(--fill-color);\n",
              "    }\n",
              "    80% {\n",
              "      border-color: transparent;\n",
              "      border-right-color: var(--fill-color);\n",
              "      border-bottom-color: var(--fill-color);\n",
              "    }\n",
              "    90% {\n",
              "      border-color: transparent;\n",
              "      border-bottom-color: var(--fill-color);\n",
              "    }\n",
              "  }\n",
              "</style>\n",
              "\n",
              "      <script>\n",
              "        async function quickchart(key) {\n",
              "          const quickchartButtonEl =\n",
              "            document.querySelector('#' + key + ' button');\n",
              "          quickchartButtonEl.disabled = true;  // To prevent multiple clicks.\n",
              "          quickchartButtonEl.classList.add('colab-df-spinner');\n",
              "          try {\n",
              "            const charts = await google.colab.kernel.invokeFunction(\n",
              "                'suggestCharts', [key], {});\n",
              "          } catch (error) {\n",
              "            console.error('Error during call to suggestCharts:', error);\n",
              "          }\n",
              "          quickchartButtonEl.classList.remove('colab-df-spinner');\n",
              "          quickchartButtonEl.classList.add('colab-df-quickchart-complete');\n",
              "        }\n",
              "        (() => {\n",
              "          let quickchartButtonEl =\n",
              "            document.querySelector('#df-ad65835b-44b5-4d08-8c81-8839e6f27b90 button');\n",
              "          quickchartButtonEl.style.display =\n",
              "            google.colab.kernel.accessAllowed ? 'block' : 'none';\n",
              "        })();\n",
              "      </script>\n",
              "    </div>\n",
              "\n",
              "    </div>\n",
              "  </div>\n"
            ],
            "application/vnd.google.colaboratory.intrinsic+json": {
              "type": "dataframe",
              "summary": "{\n  \"name\": \"df_limpio[['account_Charges_Monthly', 'Cuentas_Diarias']]\",\n  \"rows\": 5,\n  \"fields\": [\n    {\n      \"column\": \"account_Charges_Monthly\",\n      \"properties\": {\n        \"dtype\": \"number\",\n        \"std\": 15.148036176349727,\n        \"min\": 59.9,\n        \"max\": 98.0,\n        \"num_unique_values\": 5,\n        \"samples\": [\n          59.9,\n          83.9,\n          73.9\n        ],\n        \"semantic_type\": \"\",\n        \"description\": \"\"\n      }\n    },\n    {\n      \"column\": \"Cuentas_Diarias\",\n      \"properties\": {\n        \"dtype\": \"number\",\n        \"std\": 0.4967594991542688,\n        \"min\": 1.97,\n        \"max\": 3.22,\n        \"num_unique_values\": 5,\n        \"samples\": [\n          1.97,\n          2.76,\n          2.43\n        ],\n        \"semantic_type\": \"\",\n        \"description\": \"\"\n      }\n    }\n  ]\n}"
            }
          },
          "metadata": {},
          "execution_count": 34
        }
      ]
    },
    {
      "cell_type": "code",
      "source": [
        "print(df_limpio.columns.tolist())"
      ],
      "metadata": {
        "colab": {
          "base_uri": "https://localhost:8080/"
        },
        "id": "E9YZcOIy8ojS",
        "outputId": "325cc81a-9ad5-4f2f-9dee-297c0d9b0406"
      },
      "execution_count": 35,
      "outputs": [
        {
          "output_type": "stream",
          "name": "stdout",
          "text": [
            "['ID', 'cancelo', 'customer_gender', 'customer_SeniorCitizen', 'customer_Partner', 'customer_Dependents', 'customer_tenure', 'phone_PhoneService', 'phone_MultipleLines', 'internet_InternetService', 'internet_OnlineSecurity', 'internet_OnlineBackup', 'internet_DeviceProtection', 'internet_TechSupport', 'internet_StreamingTV', 'internet_StreamingMovies', 'account_Contract', 'account_PaperlessBilling', 'account_PaymentMethod', 'account_Charges_Monthly', 'account_Charges_Total', 'Cuentas_Diarias']\n"
          ]
        }
      ]
    },
    {
      "cell_type": "code",
      "source": [
        "df_limpio.describe()"
      ],
      "metadata": {
        "colab": {
          "base_uri": "https://localhost:8080/",
          "height": 320
        },
        "id": "_Q3Q0ozE9spO",
        "outputId": "f4e71274-355c-4362-c460-97a6861814d9"
      },
      "execution_count": 36,
      "outputs": [
        {
          "output_type": "execute_result",
          "data": {
            "text/plain": [
              "           cancelo  customer_SeniorCitizen  customer_Partner  \\\n",
              "count  7043.000000             7043.000000       7043.000000   \n",
              "mean      0.265370                0.162147          0.483033   \n",
              "std       0.441561                0.368612          0.499748   \n",
              "min       0.000000                0.000000          0.000000   \n",
              "25%       0.000000                0.000000          0.000000   \n",
              "50%       0.000000                0.000000          0.000000   \n",
              "75%       1.000000                0.000000          1.000000   \n",
              "max       1.000000                1.000000          1.000000   \n",
              "\n",
              "       customer_Dependents  customer_tenure  phone_PhoneService  \\\n",
              "count          7043.000000      7043.000000         7043.000000   \n",
              "mean              0.299588        32.371149            0.903166   \n",
              "std               0.458110        24.559481            0.295752   \n",
              "min               0.000000         0.000000            0.000000   \n",
              "25%               0.000000         9.000000            1.000000   \n",
              "50%               0.000000        29.000000            1.000000   \n",
              "75%               1.000000        55.000000            1.000000   \n",
              "max               1.000000        72.000000            1.000000   \n",
              "\n",
              "       account_PaperlessBilling  account_Charges_Monthly  \\\n",
              "count               7043.000000              7043.000000   \n",
              "mean                   0.592219                64.761692   \n",
              "std                    0.491457                30.090047   \n",
              "min                    0.000000                18.250000   \n",
              "25%                    0.000000                35.500000   \n",
              "50%                    1.000000                70.350000   \n",
              "75%                    1.000000                89.850000   \n",
              "max                    1.000000               118.750000   \n",
              "\n",
              "       account_Charges_Total  Cuentas_Diarias  \n",
              "count            7043.000000      7043.000000  \n",
              "mean             2283.300441         2.127521  \n",
              "std              2265.000258         0.988435  \n",
              "min                18.800000         0.600000  \n",
              "25%               402.225000         1.170000  \n",
              "50%              1400.550000         2.310000  \n",
              "75%              3786.600000         2.950000  \n",
              "max              8684.800000         3.900000  "
            ],
            "text/html": [
              "\n",
              "  <div id=\"df-b39dea8a-c4a2-46ea-9c31-b0d87a8e504b\" class=\"colab-df-container\">\n",
              "    <div>\n",
              "<style scoped>\n",
              "    .dataframe tbody tr th:only-of-type {\n",
              "        vertical-align: middle;\n",
              "    }\n",
              "\n",
              "    .dataframe tbody tr th {\n",
              "        vertical-align: top;\n",
              "    }\n",
              "\n",
              "    .dataframe thead th {\n",
              "        text-align: right;\n",
              "    }\n",
              "</style>\n",
              "<table border=\"1\" class=\"dataframe\">\n",
              "  <thead>\n",
              "    <tr style=\"text-align: right;\">\n",
              "      <th></th>\n",
              "      <th>cancelo</th>\n",
              "      <th>customer_SeniorCitizen</th>\n",
              "      <th>customer_Partner</th>\n",
              "      <th>customer_Dependents</th>\n",
              "      <th>customer_tenure</th>\n",
              "      <th>phone_PhoneService</th>\n",
              "      <th>account_PaperlessBilling</th>\n",
              "      <th>account_Charges_Monthly</th>\n",
              "      <th>account_Charges_Total</th>\n",
              "      <th>Cuentas_Diarias</th>\n",
              "    </tr>\n",
              "  </thead>\n",
              "  <tbody>\n",
              "    <tr>\n",
              "      <th>count</th>\n",
              "      <td>7043.000000</td>\n",
              "      <td>7043.000000</td>\n",
              "      <td>7043.000000</td>\n",
              "      <td>7043.000000</td>\n",
              "      <td>7043.000000</td>\n",
              "      <td>7043.000000</td>\n",
              "      <td>7043.000000</td>\n",
              "      <td>7043.000000</td>\n",
              "      <td>7043.000000</td>\n",
              "      <td>7043.000000</td>\n",
              "    </tr>\n",
              "    <tr>\n",
              "      <th>mean</th>\n",
              "      <td>0.265370</td>\n",
              "      <td>0.162147</td>\n",
              "      <td>0.483033</td>\n",
              "      <td>0.299588</td>\n",
              "      <td>32.371149</td>\n",
              "      <td>0.903166</td>\n",
              "      <td>0.592219</td>\n",
              "      <td>64.761692</td>\n",
              "      <td>2283.300441</td>\n",
              "      <td>2.127521</td>\n",
              "    </tr>\n",
              "    <tr>\n",
              "      <th>std</th>\n",
              "      <td>0.441561</td>\n",
              "      <td>0.368612</td>\n",
              "      <td>0.499748</td>\n",
              "      <td>0.458110</td>\n",
              "      <td>24.559481</td>\n",
              "      <td>0.295752</td>\n",
              "      <td>0.491457</td>\n",
              "      <td>30.090047</td>\n",
              "      <td>2265.000258</td>\n",
              "      <td>0.988435</td>\n",
              "    </tr>\n",
              "    <tr>\n",
              "      <th>min</th>\n",
              "      <td>0.000000</td>\n",
              "      <td>0.000000</td>\n",
              "      <td>0.000000</td>\n",
              "      <td>0.000000</td>\n",
              "      <td>0.000000</td>\n",
              "      <td>0.000000</td>\n",
              "      <td>0.000000</td>\n",
              "      <td>18.250000</td>\n",
              "      <td>18.800000</td>\n",
              "      <td>0.600000</td>\n",
              "    </tr>\n",
              "    <tr>\n",
              "      <th>25%</th>\n",
              "      <td>0.000000</td>\n",
              "      <td>0.000000</td>\n",
              "      <td>0.000000</td>\n",
              "      <td>0.000000</td>\n",
              "      <td>9.000000</td>\n",
              "      <td>1.000000</td>\n",
              "      <td>0.000000</td>\n",
              "      <td>35.500000</td>\n",
              "      <td>402.225000</td>\n",
              "      <td>1.170000</td>\n",
              "    </tr>\n",
              "    <tr>\n",
              "      <th>50%</th>\n",
              "      <td>0.000000</td>\n",
              "      <td>0.000000</td>\n",
              "      <td>0.000000</td>\n",
              "      <td>0.000000</td>\n",
              "      <td>29.000000</td>\n",
              "      <td>1.000000</td>\n",
              "      <td>1.000000</td>\n",
              "      <td>70.350000</td>\n",
              "      <td>1400.550000</td>\n",
              "      <td>2.310000</td>\n",
              "    </tr>\n",
              "    <tr>\n",
              "      <th>75%</th>\n",
              "      <td>1.000000</td>\n",
              "      <td>0.000000</td>\n",
              "      <td>1.000000</td>\n",
              "      <td>1.000000</td>\n",
              "      <td>55.000000</td>\n",
              "      <td>1.000000</td>\n",
              "      <td>1.000000</td>\n",
              "      <td>89.850000</td>\n",
              "      <td>3786.600000</td>\n",
              "      <td>2.950000</td>\n",
              "    </tr>\n",
              "    <tr>\n",
              "      <th>max</th>\n",
              "      <td>1.000000</td>\n",
              "      <td>1.000000</td>\n",
              "      <td>1.000000</td>\n",
              "      <td>1.000000</td>\n",
              "      <td>72.000000</td>\n",
              "      <td>1.000000</td>\n",
              "      <td>1.000000</td>\n",
              "      <td>118.750000</td>\n",
              "      <td>8684.800000</td>\n",
              "      <td>3.900000</td>\n",
              "    </tr>\n",
              "  </tbody>\n",
              "</table>\n",
              "</div>\n",
              "    <div class=\"colab-df-buttons\">\n",
              "\n",
              "  <div class=\"colab-df-container\">\n",
              "    <button class=\"colab-df-convert\" onclick=\"convertToInteractive('df-b39dea8a-c4a2-46ea-9c31-b0d87a8e504b')\"\n",
              "            title=\"Convert this dataframe to an interactive table.\"\n",
              "            style=\"display:none;\">\n",
              "\n",
              "  <svg xmlns=\"http://www.w3.org/2000/svg\" height=\"24px\" viewBox=\"0 -960 960 960\">\n",
              "    <path d=\"M120-120v-720h720v720H120Zm60-500h600v-160H180v160Zm220 220h160v-160H400v160Zm0 220h160v-160H400v160ZM180-400h160v-160H180v160Zm440 0h160v-160H620v160ZM180-180h160v-160H180v160Zm440 0h160v-160H620v160Z\"/>\n",
              "  </svg>\n",
              "    </button>\n",
              "\n",
              "  <style>\n",
              "    .colab-df-container {\n",
              "      display:flex;\n",
              "      gap: 12px;\n",
              "    }\n",
              "\n",
              "    .colab-df-convert {\n",
              "      background-color: #E8F0FE;\n",
              "      border: none;\n",
              "      border-radius: 50%;\n",
              "      cursor: pointer;\n",
              "      display: none;\n",
              "      fill: #1967D2;\n",
              "      height: 32px;\n",
              "      padding: 0 0 0 0;\n",
              "      width: 32px;\n",
              "    }\n",
              "\n",
              "    .colab-df-convert:hover {\n",
              "      background-color: #E2EBFA;\n",
              "      box-shadow: 0px 1px 2px rgba(60, 64, 67, 0.3), 0px 1px 3px 1px rgba(60, 64, 67, 0.15);\n",
              "      fill: #174EA6;\n",
              "    }\n",
              "\n",
              "    .colab-df-buttons div {\n",
              "      margin-bottom: 4px;\n",
              "    }\n",
              "\n",
              "    [theme=dark] .colab-df-convert {\n",
              "      background-color: #3B4455;\n",
              "      fill: #D2E3FC;\n",
              "    }\n",
              "\n",
              "    [theme=dark] .colab-df-convert:hover {\n",
              "      background-color: #434B5C;\n",
              "      box-shadow: 0px 1px 3px 1px rgba(0, 0, 0, 0.15);\n",
              "      filter: drop-shadow(0px 1px 2px rgba(0, 0, 0, 0.3));\n",
              "      fill: #FFFFFF;\n",
              "    }\n",
              "  </style>\n",
              "\n",
              "    <script>\n",
              "      const buttonEl =\n",
              "        document.querySelector('#df-b39dea8a-c4a2-46ea-9c31-b0d87a8e504b button.colab-df-convert');\n",
              "      buttonEl.style.display =\n",
              "        google.colab.kernel.accessAllowed ? 'block' : 'none';\n",
              "\n",
              "      async function convertToInteractive(key) {\n",
              "        const element = document.querySelector('#df-b39dea8a-c4a2-46ea-9c31-b0d87a8e504b');\n",
              "        const dataTable =\n",
              "          await google.colab.kernel.invokeFunction('convertToInteractive',\n",
              "                                                    [key], {});\n",
              "        if (!dataTable) return;\n",
              "\n",
              "        const docLinkHtml = 'Like what you see? Visit the ' +\n",
              "          '<a target=\"_blank\" href=https://colab.research.google.com/notebooks/data_table.ipynb>data table notebook</a>'\n",
              "          + ' to learn more about interactive tables.';\n",
              "        element.innerHTML = '';\n",
              "        dataTable['output_type'] = 'display_data';\n",
              "        await google.colab.output.renderOutput(dataTable, element);\n",
              "        const docLink = document.createElement('div');\n",
              "        docLink.innerHTML = docLinkHtml;\n",
              "        element.appendChild(docLink);\n",
              "      }\n",
              "    </script>\n",
              "  </div>\n",
              "\n",
              "\n",
              "    <div id=\"df-ea59fb49-4284-4357-b820-1d4209160727\">\n",
              "      <button class=\"colab-df-quickchart\" onclick=\"quickchart('df-ea59fb49-4284-4357-b820-1d4209160727')\"\n",
              "                title=\"Suggest charts\"\n",
              "                style=\"display:none;\">\n",
              "\n",
              "<svg xmlns=\"http://www.w3.org/2000/svg\" height=\"24px\"viewBox=\"0 0 24 24\"\n",
              "     width=\"24px\">\n",
              "    <g>\n",
              "        <path d=\"M19 3H5c-1.1 0-2 .9-2 2v14c0 1.1.9 2 2 2h14c1.1 0 2-.9 2-2V5c0-1.1-.9-2-2-2zM9 17H7v-7h2v7zm4 0h-2V7h2v10zm4 0h-2v-4h2v4z\"/>\n",
              "    </g>\n",
              "</svg>\n",
              "      </button>\n",
              "\n",
              "<style>\n",
              "  .colab-df-quickchart {\n",
              "      --bg-color: #E8F0FE;\n",
              "      --fill-color: #1967D2;\n",
              "      --hover-bg-color: #E2EBFA;\n",
              "      --hover-fill-color: #174EA6;\n",
              "      --disabled-fill-color: #AAA;\n",
              "      --disabled-bg-color: #DDD;\n",
              "  }\n",
              "\n",
              "  [theme=dark] .colab-df-quickchart {\n",
              "      --bg-color: #3B4455;\n",
              "      --fill-color: #D2E3FC;\n",
              "      --hover-bg-color: #434B5C;\n",
              "      --hover-fill-color: #FFFFFF;\n",
              "      --disabled-bg-color: #3B4455;\n",
              "      --disabled-fill-color: #666;\n",
              "  }\n",
              "\n",
              "  .colab-df-quickchart {\n",
              "    background-color: var(--bg-color);\n",
              "    border: none;\n",
              "    border-radius: 50%;\n",
              "    cursor: pointer;\n",
              "    display: none;\n",
              "    fill: var(--fill-color);\n",
              "    height: 32px;\n",
              "    padding: 0;\n",
              "    width: 32px;\n",
              "  }\n",
              "\n",
              "  .colab-df-quickchart:hover {\n",
              "    background-color: var(--hover-bg-color);\n",
              "    box-shadow: 0 1px 2px rgba(60, 64, 67, 0.3), 0 1px 3px 1px rgba(60, 64, 67, 0.15);\n",
              "    fill: var(--button-hover-fill-color);\n",
              "  }\n",
              "\n",
              "  .colab-df-quickchart-complete:disabled,\n",
              "  .colab-df-quickchart-complete:disabled:hover {\n",
              "    background-color: var(--disabled-bg-color);\n",
              "    fill: var(--disabled-fill-color);\n",
              "    box-shadow: none;\n",
              "  }\n",
              "\n",
              "  .colab-df-spinner {\n",
              "    border: 2px solid var(--fill-color);\n",
              "    border-color: transparent;\n",
              "    border-bottom-color: var(--fill-color);\n",
              "    animation:\n",
              "      spin 1s steps(1) infinite;\n",
              "  }\n",
              "\n",
              "  @keyframes spin {\n",
              "    0% {\n",
              "      border-color: transparent;\n",
              "      border-bottom-color: var(--fill-color);\n",
              "      border-left-color: var(--fill-color);\n",
              "    }\n",
              "    20% {\n",
              "      border-color: transparent;\n",
              "      border-left-color: var(--fill-color);\n",
              "      border-top-color: var(--fill-color);\n",
              "    }\n",
              "    30% {\n",
              "      border-color: transparent;\n",
              "      border-left-color: var(--fill-color);\n",
              "      border-top-color: var(--fill-color);\n",
              "      border-right-color: var(--fill-color);\n",
              "    }\n",
              "    40% {\n",
              "      border-color: transparent;\n",
              "      border-right-color: var(--fill-color);\n",
              "      border-top-color: var(--fill-color);\n",
              "    }\n",
              "    60% {\n",
              "      border-color: transparent;\n",
              "      border-right-color: var(--fill-color);\n",
              "    }\n",
              "    80% {\n",
              "      border-color: transparent;\n",
              "      border-right-color: var(--fill-color);\n",
              "      border-bottom-color: var(--fill-color);\n",
              "    }\n",
              "    90% {\n",
              "      border-color: transparent;\n",
              "      border-bottom-color: var(--fill-color);\n",
              "    }\n",
              "  }\n",
              "</style>\n",
              "\n",
              "      <script>\n",
              "        async function quickchart(key) {\n",
              "          const quickchartButtonEl =\n",
              "            document.querySelector('#' + key + ' button');\n",
              "          quickchartButtonEl.disabled = true;  // To prevent multiple clicks.\n",
              "          quickchartButtonEl.classList.add('colab-df-spinner');\n",
              "          try {\n",
              "            const charts = await google.colab.kernel.invokeFunction(\n",
              "                'suggestCharts', [key], {});\n",
              "          } catch (error) {\n",
              "            console.error('Error during call to suggestCharts:', error);\n",
              "          }\n",
              "          quickchartButtonEl.classList.remove('colab-df-spinner');\n",
              "          quickchartButtonEl.classList.add('colab-df-quickchart-complete');\n",
              "        }\n",
              "        (() => {\n",
              "          let quickchartButtonEl =\n",
              "            document.querySelector('#df-ea59fb49-4284-4357-b820-1d4209160727 button');\n",
              "          quickchartButtonEl.style.display =\n",
              "            google.colab.kernel.accessAllowed ? 'block' : 'none';\n",
              "        })();\n",
              "      </script>\n",
              "    </div>\n",
              "\n",
              "    </div>\n",
              "  </div>\n"
            ],
            "application/vnd.google.colaboratory.intrinsic+json": {
              "type": "dataframe",
              "summary": "{\n  \"name\": \"df_limpio\",\n  \"rows\": 8,\n  \"fields\": [\n    {\n      \"column\": \"cancelo\",\n      \"properties\": {\n        \"dtype\": \"number\",\n        \"std\": 2489.939844235915,\n        \"min\": 0.0,\n        \"max\": 7043.0,\n        \"num_unique_values\": 5,\n        \"samples\": [\n          0.2653698707936959,\n          1.0,\n          0.4415613051219502\n        ],\n        \"semantic_type\": \"\",\n        \"description\": \"\"\n      }\n    },\n    {\n      \"column\": \"customer_SeniorCitizen\",\n      \"properties\": {\n        \"dtype\": \"number\",\n        \"std\": 2489.9992387084,\n        \"min\": 0.0,\n        \"max\": 7043.0,\n        \"num_unique_values\": 5,\n        \"samples\": [\n          0.1621468124378816,\n          1.0,\n          0.3686116056100278\n        ],\n        \"semantic_type\": \"\",\n        \"description\": \"\"\n      }\n    },\n    {\n      \"column\": \"customer_Partner\",\n      \"properties\": {\n        \"dtype\": \"number\",\n        \"std\": 2489.92591156319,\n        \"min\": 0.0,\n        \"max\": 7043.0,\n        \"num_unique_values\": 5,\n        \"samples\": [\n          0.4830327985233565,\n          1.0,\n          0.49974751072001705\n        ],\n        \"semantic_type\": \"\",\n        \"description\": \"\"\n      }\n    },\n    {\n      \"column\": \"customer_Dependents\",\n      \"properties\": {\n        \"dtype\": \"number\",\n        \"std\": 2489.9372799481184,\n        \"min\": 0.0,\n        \"max\": 7043.0,\n        \"num_unique_values\": 5,\n        \"samples\": [\n          0.2995882436461735,\n          1.0,\n          0.4581101675100069\n        ],\n        \"semantic_type\": \"\",\n        \"description\": \"\"\n      }\n    },\n    {\n      \"column\": \"customer_tenure\",\n      \"properties\": {\n        \"dtype\": \"number\",\n        \"std\": 2478.9752758409018,\n        \"min\": 0.0,\n        \"max\": 7043.0,\n        \"num_unique_values\": 8,\n        \"samples\": [\n          32.37114865824223,\n          29.0,\n          7043.0\n        ],\n        \"semantic_type\": \"\",\n        \"description\": \"\"\n      }\n    },\n    {\n      \"column\": \"phone_PhoneService\",\n      \"properties\": {\n        \"dtype\": \"number\",\n        \"std\": 2489.813974802202,\n        \"min\": 0.0,\n        \"max\": 7043.0,\n        \"num_unique_values\": 5,\n        \"samples\": [\n          0.9031662643759761,\n          1.0,\n          0.2957522317836505\n        ],\n        \"semantic_type\": \"\",\n        \"description\": \"\"\n      }\n    },\n    {\n      \"column\": \"account_PaperlessBilling\",\n      \"properties\": {\n        \"dtype\": \"number\",\n        \"std\": 2489.8703078652547,\n        \"min\": 0.0,\n        \"max\": 7043.0,\n        \"num_unique_values\": 5,\n        \"samples\": [\n          0.5922192247621753,\n          1.0,\n          0.491456924049444\n        ],\n        \"semantic_type\": \"\",\n        \"description\": \"\"\n      }\n    },\n    {\n      \"column\": \"account_Charges_Monthly\",\n      \"properties\": {\n        \"dtype\": \"number\",\n        \"std\": 2468.7047672837775,\n        \"min\": 18.25,\n        \"max\": 7043.0,\n        \"num_unique_values\": 8,\n        \"samples\": [\n          64.76169246059918,\n          70.35,\n          7043.0\n        ],\n        \"semantic_type\": \"\",\n        \"description\": \"\"\n      }\n    },\n    {\n      \"column\": \"account_Charges_Total\",\n      \"properties\": {\n        \"dtype\": \"number\",\n        \"std\": 3118.741488592761,\n        \"min\": 18.8,\n        \"max\": 8684.8,\n        \"num_unique_values\": 8,\n        \"samples\": [\n          2283.3004408418656,\n          1400.55,\n          7043.0\n        ],\n        \"semantic_type\": \"\",\n        \"description\": \"\"\n      }\n    },\n    {\n      \"column\": \"Cuentas_Diarias\",\n      \"properties\": {\n        \"dtype\": \"number\",\n        \"std\": 2489.367340127651,\n        \"min\": 0.6,\n        \"max\": 7043.0,\n        \"num_unique_values\": 8,\n        \"samples\": [\n          2.1275209427800656,\n          2.31,\n          7043.0\n        ],\n        \"semantic_type\": \"\",\n        \"description\": \"\"\n      }\n    }\n  ]\n}"
            }
          },
          "metadata": {},
          "execution_count": 36
        }
      ]
    },
    {
      "cell_type": "code",
      "source": [
        "columnas = ['gastos_mensuales', 'gastos_totales', 'Cuentas_Diarias', 'meses_de_contrato']\n",
        "\n",
        "for col in columnas:\n",
        "    if col in df_limpio.columns:\n",
        "        print(f\"\\n📌 Estadísticas de: {col}\")\n",
        "        print(f\"Media:     {df_limpio[col].mean():.2f}\")\n",
        "        print(f\"Mediana:   {df_limpio[col].median():.2f}\")\n",
        "        print(f\"Desv.Std.: {df_limpio[col].std():.2f}\")\n"
      ],
      "metadata": {
        "colab": {
          "base_uri": "https://localhost:8080/"
        },
        "id": "2MN7h5S2Cpua",
        "outputId": "34494723-8cb5-4ea5-df82-fab22eaa60c2"
      },
      "execution_count": 37,
      "outputs": [
        {
          "output_type": "stream",
          "name": "stdout",
          "text": [
            "\n",
            "📌 Estadísticas de: Cuentas_Diarias\n",
            "Media:     2.13\n",
            "Mediana:   2.31\n",
            "Desv.Std.: 0.99\n"
          ]
        }
      ]
    },
    {
      "cell_type": "code",
      "source": [
        "import matplotlib.pyplot as plt\n",
        "import seaborn as sns\n",
        "\n",
        "columnas = ['gastos_mensuales', 'gastos_totales', 'Cuentas_Diarias', 'meses_de_contrato']\n",
        "\n",
        "for col in columnas:\n",
        "    if col in df_limpio.columns:\n",
        "        plt.figure(figsize=(6, 4))\n",
        "        sns.histplot(df_limpio[col], kde=True, bins=30)\n",
        "        plt.title(f\"Distribución de {col}\")\n",
        "        plt.xlabel(col)\n",
        "        plt.ylabel(\"Frecuencia\")\n",
        "        plt.grid(True)\n",
        "        plt.tight_layout()\n",
        "        plt.show()\n"
      ],
      "metadata": {
        "colab": {
          "base_uri": "https://localhost:8080/",
          "height": 407
        },
        "id": "f9xnnH7VDIPZ",
        "outputId": "30320366-3c3e-4993-9976-b5177647937d"
      },
      "execution_count": 38,
      "outputs": [
        {
          "output_type": "display_data",
          "data": {
            "text/plain": [
              "<Figure size 600x400 with 1 Axes>"
            ],
            "image/png": "[encoded data removed]"
          },
          "metadata": {}
        }
      ]
    },
    {
      "cell_type": "code",
      "source": [
        "for col in columnas:\n",
        "    if col in df_limpio.columns:\n",
        "        plt.figure(figsize=(6, 4))\n",
        "        sns.boxplot(data=df_limpio, x='cancelo', y=col)\n",
        "        plt.title(f\"{col} por estado de cancelación\")\n",
        "        plt.xlabel(\"Canceló (1 = Sí, 0 = No)\")\n",
        "        plt.ylabel(col)\n",
        "        plt.tight_layout()\n",
        "        plt.show()\n"
      ],
      "metadata": {
        "colab": {
          "base_uri": "https://localhost:8080/",
          "height": 407
        },
        "id": "AvMm3jtTD2Ee",
        "outputId": "47ed7003-d295-48b9-977e-cf7da7437353"
      },
      "execution_count": 39,
      "outputs": [
        {
          "output_type": "display_data",
          "data": {
            "text/plain": [
              "<Figure size 600x400 with 1 Axes>"
            ],
            "image/png": "[encoded data removed]"
          },
          "metadata": {}
        }
      ]
    },
    {
      "cell_type": "code",
      "source": [
        "for col in columnas:\n",
        "    if col in df_limpio.columns:\n",
        "        g = sns.FacetGrid(df_limpio, col=\"cancelo\", height=4, aspect=1.5)\n",
        "        g.map(sns.histplot, col, bins=30, kde=True)\n",
        "        g.fig.suptitle(f\"Distribución de {col} por cancelación\", y=1.05)\n",
        "        plt.show()\n"
      ],
      "metadata": {
        "colab": {
          "base_uri": "https://localhost:8080/",
          "height": 442
        },
        "id": "UTEr3OlZD_jN",
        "outputId": "42e52168-db9d-410e-bacd-64a07ed1cbc4"
      },
      "execution_count": 40,
      "outputs": [
        {
          "output_type": "display_data",
          "data": {
            "text/plain": [
              "<Figure size 1200x400 with 2 Axes>"
            ],
            "image/png": "[encoded data removed]"
          },
          "metadata": {}
        }
      ]
    },
    {
      "cell_type": "code",
      "source": [
        "import seaborn as sns\n",
        "import matplotlib.pyplot as plt\n",
        "\n",
        "# Correlación de todas las variables numéricas con \"cancelo\"\n",
        "correlaciones = df_limpio.corr(numeric_only=True)\n",
        "cor_cancelacion = correlaciones['cancelo'].drop('cancelo').sort_values(ascending=False)\n",
        "\n",
        "# Mostrar las 10 más correlacionadas\n",
        "print(\"📊 Correlaciones más fuertes con la cancelación:\\n\")\n",
        "print(cor_cancelacion.head(10))\n",
        "\n",
        "# Gráfico\n",
        "plt.figure(figsize=(6, 4))\n",
        "sns.barplot(x=cor_cancelacion.values, y=cor_cancelacion.index, palette=\"coolwarm\")\n",
        "plt.title(\"🔍 Variables más correlacionadas con 'cancelo'\")\n",
        "plt.xlabel(\"Correlación con cancelación\")\n",
        "plt.grid(True)\n",
        "plt.tight_layout()\n",
        "plt.show()\n"
      ],
      "metadata": {
        "colab": {
          "base_uri": "https://localhost:8080/",
          "height": 792
        },
        "id": "lKP-G6y0EOkv",
        "outputId": "8973d526-f2f0-4fa9-d1c5-9aed714ea5d6"
      },
      "execution_count": 41,
      "outputs": [
        {
          "output_type": "stream",
          "name": "stdout",
          "text": [
            "📊 Correlaciones más fuertes con la cancelación:\n",
            "\n",
            "account_Charges_Monthly     0.193356\n",
            "Cuentas_Diarias             0.193317\n",
            "account_PaperlessBilling    0.191825\n",
            "customer_SeniorCitizen      0.150889\n",
            "phone_PhoneService          0.011942\n",
            "customer_Partner           -0.150448\n",
            "customer_Dependents        -0.164221\n",
            "account_Charges_Total      -0.199428\n",
            "customer_tenure            -0.352229\n",
            "Name: cancelo, dtype: float64\n"
          ]
        },
        {
          "output_type": "stream",
          "name": "stderr",
          "text": [
            "/tmp/ipython-input-41-2474591643.py:14: FutureWarning: \n",
            "\n",
            "Passing `palette` without assigning `hue` is deprecated and will be removed in v0.14.0. Assign the `y` variable to `hue` and set `legend=False` for the same effect.\n",
            "\n",
            "  sns.barplot(x=cor_cancelacion.values, y=cor_cancelacion.index, palette=\"coolwarm\")\n",
            "/tmp/ipython-input-41-2474591643.py:18: UserWarning: Glyph 128269 (\\N{LEFT-POINTING MAGNIFYING GLASS}) missing from font(s) DejaVu Sans.\n",
            "  plt.tight_layout()\n",
            "/usr/local/lib/python3.11/dist-packages/IPython/core/pylabtools.py:151: UserWarning: Glyph 128269 (\\N{LEFT-POINTING MAGNIFYING GLASS}) missing from font(s) DejaVu Sans.\n",
            "  fig.canvas.print_figure(bytes_io, **kw)\n"
          ]
        },
        {
          "output_type": "display_data",
          "data": {
            "text/plain": [
              "<Figure size 600x400 with 1 Axes>"
            ],
            "image/png": "[encoded data removed]"
          },
          "metadata": {}
        }
      ]
    },
    {
      "cell_type": "code",
      "source": [
        "plt.figure(figsize=(12, 10))\n",
        "sns.heatmap(df_limpio.corr(numeric_only=True), cmap=\"coolwarm\", center=0, annot=False)\n",
        "plt.title(\"📌 Matriz de correlación completa\")\n",
        "plt.tight_layout()\n",
        "plt.show()"
      ],
      "metadata": {
        "colab": {
          "base_uri": "https://localhost:8080/",
          "height": 1000
        },
        "id": "ko1fUUhoFSgi",
        "outputId": "f98d4500-50da-401d-92bf-554b71eb4664"
      },
      "execution_count": 59,
      "outputs": [
        {
          "output_type": "stream",
          "name": "stderr",
          "text": [
            "/tmp/ipython-input-59-2646220930.py:4: UserWarning: Glyph 128204 (\\N{PUSHPIN}) missing from font(s) DejaVu Sans.\n",
            "  plt.tight_layout()\n",
            "/usr/local/lib/python3.11/dist-packages/IPython/core/pylabtools.py:151: UserWarning: Glyph 128204 (\\N{PUSHPIN}) missing from font(s) DejaVu Sans.\n",
            "  fig.canvas.print_figure(bytes_io, **kw)\n"
          ]
        },
        {
          "output_type": "display_data",
          "data": {
            "text/plain": [
              "<Figure size 1200x1000 with 2 Axes>"
            ],
            "image/png": "[encoded data removed]"
          },
          "metadata": {}
        }
      ]
    },
    {
      "cell_type": "code",
      "source": [
        "import matplotlib.pyplot as plt\n",
        "import seaborn as sns\n",
        "\n",
        "# Proporciones\n",
        "proporcion = df_limpio['cancelo'].value_counts(normalize=True) * 100\n",
        "labels = ['No Canceló', 'Canceló']\n",
        "colors = ['#4CAF50', '#F44336']\n",
        "\n",
        "plt.figure(figsize=(5, 5))\n",
        "plt.pie(proporcion, labels=labels, autopct='%1.1f%%', colors=colors, startangle=140)\n",
        "plt.title(\"📊 Proporción de cancelación de clientes\")\n",
        "plt.axis('equal')\n",
        "plt.show()\n"
      ],
      "metadata": {
        "colab": {
          "base_uri": "https://localhost:8080/",
          "height": 487
        },
        "id": "Oru9qDLHFZzD",
        "outputId": "29af26ad-d64e-47c8-c2a2-7a7acdbfaf7f"
      },
      "execution_count": 60,
      "outputs": [
        {
          "output_type": "stream",
          "name": "stderr",
          "text": [
            "/usr/local/lib/python3.11/dist-packages/IPython/core/pylabtools.py:151: UserWarning: Glyph 128202 (\\N{BAR CHART}) missing from font(s) DejaVu Sans.\n",
            "  fig.canvas.print_figure(bytes_io, **kw)\n"
          ]
        },
        {
          "output_type": "display_data",
          "data": {
            "text/plain": [
              "<Figure size 500x500 with 1 Axes>"
            ],
            "image/png": "[encoded data removed]"
          },
          "metadata": {}
        }
      ]
    },
    {
      "cell_type": "code",
      "source": [
        "print(df_limpio.columns.tolist())"
      ],
      "metadata": {
        "colab": {
          "base_uri": "https://localhost:8080/"
        },
        "id": "wlmSbfJdHROa",
        "outputId": "b2beefea-bb25-4d9d-fa76-9bb1e118e3b4"
      },
      "execution_count": 76,
      "outputs": [
        {
          "output_type": "stream",
          "name": "stdout",
          "text": [
            "['ID', 'cancelo', 'customer_gender', 'customer_SeniorCitizen', 'customer_Partner', 'customer_Dependents', 'customer_tenure', 'phone_PhoneService', 'phone_MultipleLines', 'internet_InternetService', 'internet_OnlineSecurity', 'internet_OnlineBackup', 'internet_DeviceProtection', 'internet_TechSupport', 'internet_StreamingTV', 'internet_StreamingMovies', 'account_Contract', 'account_PaperlessBilling', 'account_PaymentMethod', 'account_Charges_Monthly', 'account_Charges_Total', 'Cuentas_Diarias']\n"
          ]
        }
      ]
    },
    {
      "cell_type": "code",
      "source": [
        "plt.figure(figsize=(6, 4))\n",
        "sns.countplot(data=df_limpio, x='customer_gender', hue='cancelo')\n",
        "plt.title(\"📌 Cancelación por género\")\n",
        "plt.xlabel(\"Género\")\n",
        "plt.ylabel(\"Cantidad\")\n",
        "plt.legend(title='Canceló')\n",
        "plt.tight_layout()\n",
        "plt.show()\n"
      ],
      "metadata": {
        "colab": {
          "base_uri": "https://localhost:8080/",
          "height": 476
        },
        "id": "1SYc6jPbHbI2",
        "outputId": "58b2876d-d7f2-4fe0-e133-8f64faaacdaf"
      },
      "execution_count": 77,
      "outputs": [
        {
          "output_type": "stream",
          "name": "stderr",
          "text": [
            "/tmp/ipython-input-77-274900982.py:7: UserWarning: Glyph 128204 (\\N{PUSHPIN}) missing from font(s) DejaVu Sans.\n",
            "  plt.tight_layout()\n",
            "/usr/local/lib/python3.11/dist-packages/IPython/core/pylabtools.py:151: UserWarning: Glyph 128204 (\\N{PUSHPIN}) missing from font(s) DejaVu Sans.\n",
            "  fig.canvas.print_figure(bytes_io, **kw)\n"
          ]
        },
        {
          "output_type": "display_data",
          "data": {
            "text/plain": [
              "<Figure size 600x400 with 1 Axes>"
            ],
            "image/png": "[encoded data removed]"
          },
          "metadata": {}
        }
      ]
    },
    {
      "cell_type": "code",
      "source": [
        "# Tipo de contrato\n",
        "plt.figure(figsize=(6, 4))\n",
        "sns.countplot(data=df_limpio, x='account_Contract', hue='cancelo')\n",
        "plt.title(\"📌 Cancelación por tipo de contrato\")\n",
        "plt.xlabel(\"Tipo de contrato\")\n",
        "plt.ylabel(\"Cantidad\")\n",
        "plt.legend(title='Canceló')\n",
        "plt.xticks(rotation=15)\n",
        "plt.tight_layout()\n",
        "plt.show()"
      ],
      "metadata": {
        "colab": {
          "base_uri": "https://localhost:8080/",
          "height": 476
        },
        "id": "SsK3Nz03HgfM",
        "outputId": "f3279978-e585-4342-9d33-28072dbffd4a"
      },
      "execution_count": 85,
      "outputs": [
        {
          "output_type": "stream",
          "name": "stderr",
          "text": [
            "/tmp/ipython-input-85-157731089.py:9: UserWarning: Glyph 128204 (\\N{PUSHPIN}) missing from font(s) DejaVu Sans.\n",
            "  plt.tight_layout()\n",
            "/usr/local/lib/python3.11/dist-packages/IPython/core/pylabtools.py:151: UserWarning: Glyph 128204 (\\N{PUSHPIN}) missing from font(s) DejaVu Sans.\n",
            "  fig.canvas.print_figure(bytes_io, **kw)\n"
          ]
        },
        {
          "output_type": "display_data",
          "data": {
            "text/plain": [
              "<Figure size 600x400 with 1 Axes>"
            ],
            "image/png": "[encoded data removed]"
          },
          "metadata": {}
        }
      ]
    },
    {
      "cell_type": "code",
      "source": [
        "plt.figure(figsize=(8, 4))\n",
        "sns.countplot(data=df_limpio, x='account_PaymentMethod', hue='cancelo')\n",
        "plt.title(\"📌 Cancelación por método de pago\")\n",
        "plt.xlabel(\"Método de pago\")\n",
        "plt.ylabel(\"Cantidad\")\n",
        "plt.legend(title='Canceló')\n",
        "plt.xticks(rotation=30)\n",
        "plt.tight_layout()\n",
        "plt.show()"
      ],
      "metadata": {
        "colab": {
          "base_uri": "https://localhost:8080/",
          "height": 476
        },
        "id": "e59u2OvgHpDV",
        "outputId": "412839b6-c5d7-4c7b-9a8b-10d8e84f738c"
      },
      "execution_count": 84,
      "outputs": [
        {
          "output_type": "stream",
          "name": "stderr",
          "text": [
            "/tmp/ipython-input-84-2754124277.py:8: UserWarning: Glyph 128204 (\\N{PUSHPIN}) missing from font(s) DejaVu Sans.\n",
            "  plt.tight_layout()\n",
            "/usr/local/lib/python3.11/dist-packages/IPython/core/pylabtools.py:151: UserWarning: Glyph 128204 (\\N{PUSHPIN}) missing from font(s) DejaVu Sans.\n",
            "  fig.canvas.print_figure(bytes_io, **kw)\n"
          ]
        },
        {
          "output_type": "display_data",
          "data": {
            "text/plain": [
              "<Figure size 800x400 with 1 Axes>"
            ],
            "image/png": "[encoded data removed]"
          },
          "metadata": {}
        }
      ]
    },
    {
      "cell_type": "markdown",
      "source": [
        "#Total Gastado y tipo de contrato#"
      ],
      "metadata": {
        "id": "S7WajThcHvpY"
      }
    },
    {
      "cell_type": "code",
      "source": [
        "# Total gastado (gastos_totales)\n",
        "plt.figure(figsize=(6, 4))\n",
        "sns.boxplot(data=df_limpio, x='cancelo', y='account_Charges_Total')\n",
        "plt.title(\"💰 Distribución de gastos totales por cancelación\")\n",
        "plt.xlabel(\"Canceló (1 = Sí, 0 = No)\")\n",
        "plt.ylabel(\"Gasto total\")\n",
        "plt.tight_layout()\n",
        "plt.show()\n",
        "\n",
        "# Tiempo de contrato (meses_de_contrato)\n",
        "plt.figure(figsize=(6, 4))\n",
        "sns.boxplot(data=df_limpio, x='cancelo', y='account_Charges_Monthly')\n",
        "plt.title(\"⏳ Tiempo de contrato por cancelación\")\n",
        "plt.xlabel(\"Canceló (1 = Sí, 0 = No)\")\n",
        "plt.ylabel(\"Meses\")\n",
        "plt.tight_layout()\n",
        "plt.show()"
      ],
      "metadata": {
        "colab": {
          "base_uri": "https://localhost:8080/",
          "height": 956
        },
        "id": "_Kyy40CoHyxA",
        "outputId": "fc0e482f-fab2-4c18-885f-a5a6c8b1b5d7"
      },
      "execution_count": 86,
      "outputs": [
        {
          "output_type": "stream",
          "name": "stderr",
          "text": [
            "/tmp/ipython-input-86-3570276657.py:7: UserWarning: Glyph 128176 (\\N{MONEY BAG}) missing from font(s) DejaVu Sans.\n",
            "  plt.tight_layout()\n",
            "/usr/local/lib/python3.11/dist-packages/IPython/core/pylabtools.py:151: UserWarning: Glyph 128176 (\\N{MONEY BAG}) missing from font(s) DejaVu Sans.\n",
            "  fig.canvas.print_figure(bytes_io, **kw)\n"
          ]
        },
        {
          "output_type": "display_data",
          "data": {
            "text/plain": [
              "<Figure size 600x400 with 1 Axes>"
            ],
            "image/png": "[encoded data removed]"
          },
          "metadata": {}
        },
        {
          "output_type": "stream",
          "name": "stderr",
          "text": [
            "/tmp/ipython-input-86-3570276657.py:16: UserWarning: Glyph 9203 (\\N{HOURGLASS WITH FLOWING SAND}) missing from font(s) DejaVu Sans.\n",
            "  plt.tight_layout()\n",
            "/usr/local/lib/python3.11/dist-packages/IPython/core/pylabtools.py:151: UserWarning: Glyph 9203 (\\N{HOURGLASS WITH FLOWING SAND}) missing from font(s) DejaVu Sans.\n",
            "  fig.canvas.print_figure(bytes_io, **kw)\n"
          ]
        },
        {
          "output_type": "display_data",
          "data": {
            "text/plain": [
              "<Figure size 600x400 with 1 Axes>"
            ],
            "image/png": "[encoded data removed]"
          },
          "metadata": {}
        }
      ]
    },
    {
      "cell_type": "code",
      "source": [
        "churn_rate = df_limpio['cancelo'].mean() * 100\n",
        "retencion_rate = 100 - churn_rate\n",
        "\n",
        "print(f\"✅ Tasa de cancelación: {churn_rate:.2f}%\")\n",
        "print(f\"✅ Tasa de retención:   {retencion_rate:.2f}%\")\n",
        "\n",
        "print(\"\\n🎯 Observaciones iniciales sugeridas:\")\n",
        "print(\"- Los clientes con contrato mensual suelen cancelar más.\")\n",
        "print(\"- Métodos como 'Electronic check' suelen tener mayor tasa de churn.\")\n",
        "print(\"- Usuarios con menor tiempo de contrato (pocos meses) tienden a cancelar.\")\n",
        "print(\"- Gastos mensuales altos pueden estar asociados a más cancelaciones.\")"
      ],
      "metadata": {
        "id": "nqUAsr2aH6L3"
      },
      "execution_count": null,
      "outputs": []
    },
    {
      "cell_type": "code",
      "source": [
        "modelo = DecisionTreeClassifier(max_depth=5)\n",
        "X_encoded = pd.get_dummies(df_limpio.drop(columns=['ID', 'cancelo']), drop_first=True)\n",
        "y = df_limpio['cancelo']\n",
        "modelo.fit(X_encoded, y)\n",
        "importancias = pd.Series(modelo.feature_importances_, index=X_encoded.columns)\n",
        "importancias.nlargest(10).plot(kind='barh', title='Top 10 variables más importantes', figsize=(6,4))\n",
        "plt.gca().invert_yaxis()\n",
        "plt.tight_layout()\n",
        "plt.show()"
      ],
      "metadata": {
        "id": "Fsy6_OZD1SmY",
        "outputId": "2a12645d-f13c-4d9f-ab46-5e9d36b13972",
        "colab": {
          "base_uri": "https://localhost:8080/",
          "height": 407
        }
      },
      "execution_count": 89,
      "outputs": [
        {
          "output_type": "display_data",
          "data": {
            "text/plain": [
              "<Figure size 600x400 with 1 Axes>"
            ],
            "image/png": "[encoded data removed]"
          },
          "metadata": {}
        }
      ]
    },
    {
      "cell_type": "markdown",
      "source": [
        "#**Las variables con mayor impacto son:**\n",
        "##Tipo de contrato\n",
        "##Tiempo de contrato\n",
        "##Gastos mensuales\n",
        "##Método de pago\n",
        "##Servicios contratados"
      ],
      "metadata": {
        "id": "JIhF4u7L192B"
      }
    },
    {
      "cell_type": "code",
      "source": [
        "df_limpio['probabilidad_churn'] = modelo.predict_proba(X_encoded)[:,1]\n",
        "clientes_en_riesgo = df_limpio[df_limpio['probabilidad_churn'] > 0.7]\n",
        "print(\"📌 Clientes en riesgo alto de cancelar:\", len(clientes_en_riesgo))\n"
      ],
      "metadata": {
        "id": "isflk8al2DEL",
        "outputId": "49a7581b-8cea-4a83-cdb7-3febe748862c",
        "colab": {
          "base_uri": "https://localhost:8080/"
        }
      },
      "execution_count": 90,
      "outputs": [
        {
          "output_type": "stream",
          "name": "stdout",
          "text": [
            "📌 Clientes en riesgo alto de cancelar: 597\n"
          ]
        }
      ]
    }
  ]
}